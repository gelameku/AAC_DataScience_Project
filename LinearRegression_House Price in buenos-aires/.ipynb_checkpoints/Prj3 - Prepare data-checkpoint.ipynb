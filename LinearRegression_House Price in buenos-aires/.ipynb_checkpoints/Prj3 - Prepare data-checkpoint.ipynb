{
 "cells": [
  {
   "cell_type": "code",
   "execution_count": 3,
   "metadata": {},
   "outputs": [],
   "source": [
    "import numpy as np\n",
    "import pandas as pd\n",
    "import matplotlib.pyplot as plt\n",
    "import plotly.express as px\n",
    "import seaborn as sns\n",
    "\n",
    "from sklearn.linear_model import LinearRegression\n",
    "\n",
    "#from sklearn.metrics import mean_absolute_error\n",
    "#from sklearn.utils.validation import check_is_fitted"
   ]
  },
  {
   "cell_type": "markdown",
   "metadata": {},
   "source": [
    "### Project 3 - Housing in Argentina"
   ]
  },
  {
   "cell_type": "markdown",
   "metadata": {},
   "source": [
    "- In project 1 and 2, you learned data wrangling and visualization skills while examining the real estate market in Mexico and Brazil. >> Descriptive\n",
    "- In this project, you'll build on those skills and \n",
    "    - move from descriptive to predictive data science. \n",
    "    - you need to create a machine learning model that predicts apartment prices in Buenos Aires, Argentina."
   ]
  },
  {
   "cell_type": "markdown",
   "metadata": {},
   "source": [
    "**Problem**"
   ]
  },
  {
   "cell_type": "markdown",
   "metadata": {},
   "source": [
    "Suppose your `client` wants; \n",
    "- a model that can predict the price of apartments in the city of Buenos Aires(`Capital Federal`) — with a focus on apartments that cost less than $500,000 USD."
   ]
  },
  {
   "cell_type": "raw",
   "metadata": {},
   "source": [
    "Prepare Data\n",
    "- Import\n",
    "- Explore\n",
    "- Split\n",
    "\n",
    "Build Model\n",
    "- Baseline \n",
    "- Iterate\n",
    "- Evaluate\n",
    "\n",
    "Communicate Result"
   ]
  },
  {
   "cell_type": "markdown",
   "metadata": {},
   "source": [
    "### 1. Predicting Price with Size"
   ]
  },
  {
   "cell_type": "raw",
   "metadata": {},
   "source": [
    "Criteria:\n",
    "- Capital Federal\n",
    "- Apartments\n",
    "- < 500,000 USD"
   ]
  },
  {
   "cell_type": "markdown",
   "metadata": {},
   "source": [
    "### Prepare Data"
   ]
  },
  {
   "cell_type": "markdown",
   "metadata": {},
   "source": [
    "#### Import"
   ]
  },
  {
   "cell_type": "code",
   "execution_count": 4,
   "metadata": {},
   "outputs": [],
   "source": [
    "df = pd.read_csv(\"C:/Users/user/DSFolder/buenos/buenos-aires-real-estate-1.csv\")"
   ]
  },
  {
   "cell_type": "code",
   "execution_count": 5,
   "metadata": {},
   "outputs": [
    {
     "data": {
      "text/plain": [
       "(8606, 16)"
      ]
     },
     "execution_count": 5,
     "metadata": {},
     "output_type": "execute_result"
    }
   ],
   "source": [
    "df.shape"
   ]
  },
  {
   "cell_type": "code",
   "execution_count": 6,
   "metadata": {
    "scrolled": true
   },
   "outputs": [
    {
     "name": "stdout",
     "output_type": "stream",
     "text": [
      "<class 'pandas.core.frame.DataFrame'>\n",
      "RangeIndex: 8606 entries, 0 to 8605\n",
      "Data columns (total 16 columns):\n",
      " #   Column                      Non-Null Count  Dtype  \n",
      "---  ------                      --------------  -----  \n",
      " 0   operation                   8606 non-null   object \n",
      " 1   property_type               8606 non-null   object \n",
      " 2   place_with_parent_names     8606 non-null   object \n",
      " 3   lat-lon                     6936 non-null   object \n",
      " 4   price                       7590 non-null   float64\n",
      " 5   currency                    7590 non-null   object \n",
      " 6   price_aprox_local_currency  7590 non-null   float64\n",
      " 7   price_aprox_usd             7590 non-null   float64\n",
      " 8   surface_total_in_m2         5946 non-null   float64\n",
      " 9   surface_covered_in_m2       7268 non-null   float64\n",
      " 10  price_usd_per_m2            4895 non-null   float64\n",
      " 11  price_per_m2                6520 non-null   float64\n",
      " 12  floor                       1259 non-null   float64\n",
      " 13  rooms                       4752 non-null   float64\n",
      " 14  expenses                    875 non-null    float64\n",
      " 15  properati_url               8606 non-null   object \n",
      "dtypes: float64(10), object(6)\n",
      "memory usage: 1.1+ MB\n"
     ]
    }
   ],
   "source": [
    "df.info()"
   ]
  },
  {
   "cell_type": "code",
   "execution_count": 7,
   "metadata": {},
   "outputs": [
    {
     "data": {
      "text/html": [
       "<div>\n",
       "<style scoped>\n",
       "    .dataframe tbody tr th:only-of-type {\n",
       "        vertical-align: middle;\n",
       "    }\n",
       "\n",
       "    .dataframe tbody tr th {\n",
       "        vertical-align: top;\n",
       "    }\n",
       "\n",
       "    .dataframe thead th {\n",
       "        text-align: right;\n",
       "    }\n",
       "</style>\n",
       "<table border=\"1\" class=\"dataframe\">\n",
       "  <thead>\n",
       "    <tr style=\"text-align: right;\">\n",
       "      <th></th>\n",
       "      <th>operation</th>\n",
       "      <th>property_type</th>\n",
       "      <th>place_with_parent_names</th>\n",
       "      <th>lat-lon</th>\n",
       "      <th>price</th>\n",
       "      <th>currency</th>\n",
       "      <th>price_aprox_local_currency</th>\n",
       "      <th>price_aprox_usd</th>\n",
       "      <th>surface_total_in_m2</th>\n",
       "      <th>surface_covered_in_m2</th>\n",
       "      <th>price_usd_per_m2</th>\n",
       "      <th>price_per_m2</th>\n",
       "      <th>floor</th>\n",
       "      <th>rooms</th>\n",
       "      <th>expenses</th>\n",
       "      <th>properati_url</th>\n",
       "    </tr>\n",
       "  </thead>\n",
       "  <tbody>\n",
       "    <tr>\n",
       "      <th>0</th>\n",
       "      <td>sell</td>\n",
       "      <td>apartment</td>\n",
       "      <td>|Argentina|Capital Federal|Villa Crespo|</td>\n",
       "      <td>-34.6047834183,-58.4586812499</td>\n",
       "      <td>180000.0</td>\n",
       "      <td>USD</td>\n",
       "      <td>2729232.0</td>\n",
       "      <td>180000.0</td>\n",
       "      <td>120.0</td>\n",
       "      <td>110.0</td>\n",
       "      <td>1500.000000</td>\n",
       "      <td>1636.363636</td>\n",
       "      <td>NaN</td>\n",
       "      <td>4.0</td>\n",
       "      <td>NaN</td>\n",
       "      <td>http://villa-crespo.properati.com.ar/12egq_ven...</td>\n",
       "    </tr>\n",
       "    <tr>\n",
       "      <th>1</th>\n",
       "      <td>sell</td>\n",
       "      <td>house</td>\n",
       "      <td>|Argentina|Bs.As. G.B.A. Zona Oeste|La Matanza...</td>\n",
       "      <td>NaN</td>\n",
       "      <td>250000.0</td>\n",
       "      <td>USD</td>\n",
       "      <td>3790600.0</td>\n",
       "      <td>250000.0</td>\n",
       "      <td>117.0</td>\n",
       "      <td>120.0</td>\n",
       "      <td>2136.752137</td>\n",
       "      <td>2083.333333</td>\n",
       "      <td>NaN</td>\n",
       "      <td>4.0</td>\n",
       "      <td>NaN</td>\n",
       "      <td>http://ramos-mejia.properati.com.ar/s7pd_venta...</td>\n",
       "    </tr>\n",
       "    <tr>\n",
       "      <th>2</th>\n",
       "      <td>sell</td>\n",
       "      <td>house</td>\n",
       "      <td>|Argentina|Bs.As. G.B.A. Zona Oeste|Morón|Cast...</td>\n",
       "      <td>-34.6497002,-58.658073</td>\n",
       "      <td>410000.0</td>\n",
       "      <td>USD</td>\n",
       "      <td>6216584.0</td>\n",
       "      <td>410000.0</td>\n",
       "      <td>410.0</td>\n",
       "      <td>220.0</td>\n",
       "      <td>1000.000000</td>\n",
       "      <td>1863.636364</td>\n",
       "      <td>NaN</td>\n",
       "      <td>NaN</td>\n",
       "      <td>NaN</td>\n",
       "      <td>http://castelar-moron.properati.com.ar/11vgn_v...</td>\n",
       "    </tr>\n",
       "    <tr>\n",
       "      <th>3</th>\n",
       "      <td>sell</td>\n",
       "      <td>house</td>\n",
       "      <td>|Argentina|Bs.As. G.B.A. Zona Oeste|Tres de Fe...</td>\n",
       "      <td>-34.5957086,-58.5669503</td>\n",
       "      <td>180000.0</td>\n",
       "      <td>USD</td>\n",
       "      <td>2729232.0</td>\n",
       "      <td>180000.0</td>\n",
       "      <td>200.0</td>\n",
       "      <td>135.0</td>\n",
       "      <td>900.000000</td>\n",
       "      <td>1333.333333</td>\n",
       "      <td>NaN</td>\n",
       "      <td>5.0</td>\n",
       "      <td>NaN</td>\n",
       "      <td>http://tres-de-febrero.properati.com.ar/7f7u_v...</td>\n",
       "    </tr>\n",
       "    <tr>\n",
       "      <th>4</th>\n",
       "      <td>sell</td>\n",
       "      <td>apartment</td>\n",
       "      <td>|Argentina|Capital Federal|Chacarita|</td>\n",
       "      <td>-34.5846508988,-58.4546932614</td>\n",
       "      <td>129000.0</td>\n",
       "      <td>USD</td>\n",
       "      <td>1955949.6</td>\n",
       "      <td>129000.0</td>\n",
       "      <td>76.0</td>\n",
       "      <td>70.0</td>\n",
       "      <td>1697.368421</td>\n",
       "      <td>1842.857143</td>\n",
       "      <td>NaN</td>\n",
       "      <td>NaN</td>\n",
       "      <td>NaN</td>\n",
       "      <td>http://chacarita.properati.com.ar/10qlv_venta_...</td>\n",
       "    </tr>\n",
       "  </tbody>\n",
       "</table>\n",
       "</div>"
      ],
      "text/plain": [
       "  operation property_type                            place_with_parent_names  \\\n",
       "0      sell     apartment           |Argentina|Capital Federal|Villa Crespo|   \n",
       "1      sell         house  |Argentina|Bs.As. G.B.A. Zona Oeste|La Matanza...   \n",
       "2      sell         house  |Argentina|Bs.As. G.B.A. Zona Oeste|Morón|Cast...   \n",
       "3      sell         house  |Argentina|Bs.As. G.B.A. Zona Oeste|Tres de Fe...   \n",
       "4      sell     apartment              |Argentina|Capital Federal|Chacarita|   \n",
       "\n",
       "                         lat-lon     price currency  \\\n",
       "0  -34.6047834183,-58.4586812499  180000.0      USD   \n",
       "1                            NaN  250000.0      USD   \n",
       "2         -34.6497002,-58.658073  410000.0      USD   \n",
       "3        -34.5957086,-58.5669503  180000.0      USD   \n",
       "4  -34.5846508988,-58.4546932614  129000.0      USD   \n",
       "\n",
       "   price_aprox_local_currency  price_aprox_usd  surface_total_in_m2  \\\n",
       "0                   2729232.0         180000.0                120.0   \n",
       "1                   3790600.0         250000.0                117.0   \n",
       "2                   6216584.0         410000.0                410.0   \n",
       "3                   2729232.0         180000.0                200.0   \n",
       "4                   1955949.6         129000.0                 76.0   \n",
       "\n",
       "   surface_covered_in_m2  price_usd_per_m2  price_per_m2  floor  rooms  \\\n",
       "0                  110.0       1500.000000   1636.363636    NaN    4.0   \n",
       "1                  120.0       2136.752137   2083.333333    NaN    4.0   \n",
       "2                  220.0       1000.000000   1863.636364    NaN    NaN   \n",
       "3                  135.0        900.000000   1333.333333    NaN    5.0   \n",
       "4                   70.0       1697.368421   1842.857143    NaN    NaN   \n",
       "\n",
       "   expenses                                      properati_url  \n",
       "0       NaN  http://villa-crespo.properati.com.ar/12egq_ven...  \n",
       "1       NaN  http://ramos-mejia.properati.com.ar/s7pd_venta...  \n",
       "2       NaN  http://castelar-moron.properati.com.ar/11vgn_v...  \n",
       "3       NaN  http://tres-de-febrero.properati.com.ar/7f7u_v...  \n",
       "4       NaN  http://chacarita.properati.com.ar/10qlv_venta_...  "
      ]
     },
     "execution_count": 7,
     "metadata": {},
     "output_type": "execute_result"
    }
   ],
   "source": [
    "df.head()"
   ]
  },
  {
   "cell_type": "markdown",
   "metadata": {},
   "source": [
    "Subsetting capital Federal"
   ]
  },
  {
   "cell_type": "code",
   "execution_count": 9,
   "metadata": {
    "scrolled": true
   },
   "outputs": [
    {
     "data": {
      "text/html": [
       "<div>\n",
       "<style scoped>\n",
       "    .dataframe tbody tr th:only-of-type {\n",
       "        vertical-align: middle;\n",
       "    }\n",
       "\n",
       "    .dataframe tbody tr th {\n",
       "        vertical-align: top;\n",
       "    }\n",
       "\n",
       "    .dataframe thead th {\n",
       "        text-align: right;\n",
       "    }\n",
       "</style>\n",
       "<table border=\"1\" class=\"dataframe\">\n",
       "  <thead>\n",
       "    <tr style=\"text-align: right;\">\n",
       "      <th></th>\n",
       "      <th>operation</th>\n",
       "      <th>property_type</th>\n",
       "      <th>place_with_parent_names</th>\n",
       "      <th>lat-lon</th>\n",
       "      <th>price</th>\n",
       "      <th>currency</th>\n",
       "      <th>price_aprox_local_currency</th>\n",
       "      <th>price_aprox_usd</th>\n",
       "      <th>surface_total_in_m2</th>\n",
       "      <th>surface_covered_in_m2</th>\n",
       "      <th>price_usd_per_m2</th>\n",
       "      <th>price_per_m2</th>\n",
       "      <th>floor</th>\n",
       "      <th>rooms</th>\n",
       "      <th>expenses</th>\n",
       "      <th>properati_url</th>\n",
       "    </tr>\n",
       "  </thead>\n",
       "  <tbody>\n",
       "    <tr>\n",
       "      <th>0</th>\n",
       "      <td>sell</td>\n",
       "      <td>apartment</td>\n",
       "      <td>|Argentina|Capital Federal|Villa Crespo|</td>\n",
       "      <td>-34.6047834183,-58.4586812499</td>\n",
       "      <td>180000.0</td>\n",
       "      <td>USD</td>\n",
       "      <td>2729232.0</td>\n",
       "      <td>180000.0</td>\n",
       "      <td>120.0</td>\n",
       "      <td>110.0</td>\n",
       "      <td>1500.000000</td>\n",
       "      <td>1636.363636</td>\n",
       "      <td>NaN</td>\n",
       "      <td>4.0</td>\n",
       "      <td>NaN</td>\n",
       "      <td>http://villa-crespo.properati.com.ar/12egq_ven...</td>\n",
       "    </tr>\n",
       "    <tr>\n",
       "      <th>4</th>\n",
       "      <td>sell</td>\n",
       "      <td>apartment</td>\n",
       "      <td>|Argentina|Capital Federal|Chacarita|</td>\n",
       "      <td>-34.5846508988,-58.4546932614</td>\n",
       "      <td>129000.0</td>\n",
       "      <td>USD</td>\n",
       "      <td>1955949.6</td>\n",
       "      <td>129000.0</td>\n",
       "      <td>76.0</td>\n",
       "      <td>70.0</td>\n",
       "      <td>1697.368421</td>\n",
       "      <td>1842.857143</td>\n",
       "      <td>NaN</td>\n",
       "      <td>NaN</td>\n",
       "      <td>NaN</td>\n",
       "      <td>http://chacarita.properati.com.ar/10qlv_venta_...</td>\n",
       "    </tr>\n",
       "    <tr>\n",
       "      <th>9</th>\n",
       "      <td>sell</td>\n",
       "      <td>apartment</td>\n",
       "      <td>|Argentina|Capital Federal|Villa Luro|</td>\n",
       "      <td>-34.6389789,-58.500115</td>\n",
       "      <td>87000.0</td>\n",
       "      <td>USD</td>\n",
       "      <td>1319128.8</td>\n",
       "      <td>87000.0</td>\n",
       "      <td>48.0</td>\n",
       "      <td>42.0</td>\n",
       "      <td>1812.500000</td>\n",
       "      <td>2071.428571</td>\n",
       "      <td>NaN</td>\n",
       "      <td>NaN</td>\n",
       "      <td>NaN</td>\n",
       "      <td>http://villa-luro.properati.com.ar/12m82_venta...</td>\n",
       "    </tr>\n",
       "    <tr>\n",
       "      <th>11</th>\n",
       "      <td>sell</td>\n",
       "      <td>apartment</td>\n",
       "      <td>|Argentina|Capital Federal|Once|</td>\n",
       "      <td>-34.6050060697,-58.4001162302</td>\n",
       "      <td>60000.0</td>\n",
       "      <td>USD</td>\n",
       "      <td>909744.0</td>\n",
       "      <td>60000.0</td>\n",
       "      <td>28.0</td>\n",
       "      <td>28.0</td>\n",
       "      <td>2142.857143</td>\n",
       "      <td>2142.857143</td>\n",
       "      <td>NaN</td>\n",
       "      <td>1.0</td>\n",
       "      <td>NaN</td>\n",
       "      <td>http://once.properati.com.ar/zz0q_venta_depart...</td>\n",
       "    </tr>\n",
       "    <tr>\n",
       "      <th>18</th>\n",
       "      <td>sell</td>\n",
       "      <td>apartment</td>\n",
       "      <td>|Argentina|Capital Federal|Belgrano|</td>\n",
       "      <td>-34.5646269,-58.4412741</td>\n",
       "      <td>600000.0</td>\n",
       "      <td>USD</td>\n",
       "      <td>9097440.0</td>\n",
       "      <td>600000.0</td>\n",
       "      <td>220.0</td>\n",
       "      <td>NaN</td>\n",
       "      <td>2727.272727</td>\n",
       "      <td>NaN</td>\n",
       "      <td>NaN</td>\n",
       "      <td>5.0</td>\n",
       "      <td>NaN</td>\n",
       "      <td>http://belgrano.properati.com.ar/jvge_venta_de...</td>\n",
       "    </tr>\n",
       "  </tbody>\n",
       "</table>\n",
       "</div>"
      ],
      "text/plain": [
       "   operation property_type                   place_with_parent_names  \\\n",
       "0       sell     apartment  |Argentina|Capital Federal|Villa Crespo|   \n",
       "4       sell     apartment     |Argentina|Capital Federal|Chacarita|   \n",
       "9       sell     apartment    |Argentina|Capital Federal|Villa Luro|   \n",
       "11      sell     apartment          |Argentina|Capital Federal|Once|   \n",
       "18      sell     apartment      |Argentina|Capital Federal|Belgrano|   \n",
       "\n",
       "                          lat-lon     price currency  \\\n",
       "0   -34.6047834183,-58.4586812499  180000.0      USD   \n",
       "4   -34.5846508988,-58.4546932614  129000.0      USD   \n",
       "9          -34.6389789,-58.500115   87000.0      USD   \n",
       "11  -34.6050060697,-58.4001162302   60000.0      USD   \n",
       "18        -34.5646269,-58.4412741  600000.0      USD   \n",
       "\n",
       "    price_aprox_local_currency  price_aprox_usd  surface_total_in_m2  \\\n",
       "0                    2729232.0         180000.0                120.0   \n",
       "4                    1955949.6         129000.0                 76.0   \n",
       "9                    1319128.8          87000.0                 48.0   \n",
       "11                    909744.0          60000.0                 28.0   \n",
       "18                   9097440.0         600000.0                220.0   \n",
       "\n",
       "    surface_covered_in_m2  price_usd_per_m2  price_per_m2  floor  rooms  \\\n",
       "0                   110.0       1500.000000   1636.363636    NaN    4.0   \n",
       "4                    70.0       1697.368421   1842.857143    NaN    NaN   \n",
       "9                    42.0       1812.500000   2071.428571    NaN    NaN   \n",
       "11                   28.0       2142.857143   2142.857143    NaN    1.0   \n",
       "18                    NaN       2727.272727           NaN    NaN    5.0   \n",
       "\n",
       "    expenses                                      properati_url  \n",
       "0        NaN  http://villa-crespo.properati.com.ar/12egq_ven...  \n",
       "4        NaN  http://chacarita.properati.com.ar/10qlv_venta_...  \n",
       "9        NaN  http://villa-luro.properati.com.ar/12m82_venta...  \n",
       "11       NaN  http://once.properati.com.ar/zz0q_venta_depart...  \n",
       "18       NaN  http://belgrano.properati.com.ar/jvge_venta_de...  "
      ]
     },
     "execution_count": 9,
     "metadata": {},
     "output_type": "execute_result"
    }
   ],
   "source": [
    "CapFed=df[\"place_with_parent_names\"].str.contains(\"Capital Federal\",\"Bs.As.\")\n",
    "df[CapFed].head()"
   ]
  },
  {
   "cell_type": "markdown",
   "metadata": {},
   "source": [
    "Subsetting Apartment"
   ]
  },
  {
   "cell_type": "code",
   "execution_count": 10,
   "metadata": {},
   "outputs": [
    {
     "data": {
      "text/html": [
       "<div>\n",
       "<style scoped>\n",
       "    .dataframe tbody tr th:only-of-type {\n",
       "        vertical-align: middle;\n",
       "    }\n",
       "\n",
       "    .dataframe tbody tr th {\n",
       "        vertical-align: top;\n",
       "    }\n",
       "\n",
       "    .dataframe thead th {\n",
       "        text-align: right;\n",
       "    }\n",
       "</style>\n",
       "<table border=\"1\" class=\"dataframe\">\n",
       "  <thead>\n",
       "    <tr style=\"text-align: right;\">\n",
       "      <th></th>\n",
       "      <th>operation</th>\n",
       "      <th>property_type</th>\n",
       "      <th>place_with_parent_names</th>\n",
       "      <th>lat-lon</th>\n",
       "      <th>price</th>\n",
       "      <th>currency</th>\n",
       "      <th>price_aprox_local_currency</th>\n",
       "      <th>price_aprox_usd</th>\n",
       "      <th>surface_total_in_m2</th>\n",
       "      <th>surface_covered_in_m2</th>\n",
       "      <th>price_usd_per_m2</th>\n",
       "      <th>price_per_m2</th>\n",
       "      <th>floor</th>\n",
       "      <th>rooms</th>\n",
       "      <th>expenses</th>\n",
       "      <th>properati_url</th>\n",
       "    </tr>\n",
       "  </thead>\n",
       "  <tbody>\n",
       "    <tr>\n",
       "      <th>0</th>\n",
       "      <td>sell</td>\n",
       "      <td>apartment</td>\n",
       "      <td>|Argentina|Capital Federal|Villa Crespo|</td>\n",
       "      <td>-34.6047834183,-58.4586812499</td>\n",
       "      <td>180000.0</td>\n",
       "      <td>USD</td>\n",
       "      <td>2729232.0</td>\n",
       "      <td>180000.0</td>\n",
       "      <td>120.0</td>\n",
       "      <td>110.0</td>\n",
       "      <td>1500.000000</td>\n",
       "      <td>1636.363636</td>\n",
       "      <td>NaN</td>\n",
       "      <td>4.0</td>\n",
       "      <td>NaN</td>\n",
       "      <td>http://villa-crespo.properati.com.ar/12egq_ven...</td>\n",
       "    </tr>\n",
       "    <tr>\n",
       "      <th>4</th>\n",
       "      <td>sell</td>\n",
       "      <td>apartment</td>\n",
       "      <td>|Argentina|Capital Federal|Chacarita|</td>\n",
       "      <td>-34.5846508988,-58.4546932614</td>\n",
       "      <td>129000.0</td>\n",
       "      <td>USD</td>\n",
       "      <td>1955949.6</td>\n",
       "      <td>129000.0</td>\n",
       "      <td>76.0</td>\n",
       "      <td>70.0</td>\n",
       "      <td>1697.368421</td>\n",
       "      <td>1842.857143</td>\n",
       "      <td>NaN</td>\n",
       "      <td>NaN</td>\n",
       "      <td>NaN</td>\n",
       "      <td>http://chacarita.properati.com.ar/10qlv_venta_...</td>\n",
       "    </tr>\n",
       "    <tr>\n",
       "      <th>6</th>\n",
       "      <td>sell</td>\n",
       "      <td>apartment</td>\n",
       "      <td>|Argentina|Bs.As. G.B.A. Zona Oeste|Morón|</td>\n",
       "      <td>-34.6558611,-58.6167212</td>\n",
       "      <td>55000.0</td>\n",
       "      <td>USD</td>\n",
       "      <td>833932.0</td>\n",
       "      <td>55000.0</td>\n",
       "      <td>NaN</td>\n",
       "      <td>NaN</td>\n",
       "      <td>NaN</td>\n",
       "      <td>NaN</td>\n",
       "      <td>NaN</td>\n",
       "      <td>NaN</td>\n",
       "      <td>NaN</td>\n",
       "      <td>http://moron-bs-as-g-b-a-zona-oeste.properati....</td>\n",
       "    </tr>\n",
       "    <tr>\n",
       "      <th>8</th>\n",
       "      <td>sell</td>\n",
       "      <td>apartment</td>\n",
       "      <td>|Argentina|Bs.As. G.B.A. Zona Norte|Tigre|Nord...</td>\n",
       "      <td>NaN</td>\n",
       "      <td>200000.0</td>\n",
       "      <td>USD</td>\n",
       "      <td>3032480.0</td>\n",
       "      <td>200000.0</td>\n",
       "      <td>61.0</td>\n",
       "      <td>48.0</td>\n",
       "      <td>3278.688525</td>\n",
       "      <td>4166.666667</td>\n",
       "      <td>NaN</td>\n",
       "      <td>2.0</td>\n",
       "      <td>3400.0</td>\n",
       "      <td>http://nordelta.properati.com.ar/vwbs_alquiler...</td>\n",
       "    </tr>\n",
       "    <tr>\n",
       "      <th>9</th>\n",
       "      <td>sell</td>\n",
       "      <td>apartment</td>\n",
       "      <td>|Argentina|Capital Federal|Villa Luro|</td>\n",
       "      <td>-34.6389789,-58.500115</td>\n",
       "      <td>87000.0</td>\n",
       "      <td>USD</td>\n",
       "      <td>1319128.8</td>\n",
       "      <td>87000.0</td>\n",
       "      <td>48.0</td>\n",
       "      <td>42.0</td>\n",
       "      <td>1812.500000</td>\n",
       "      <td>2071.428571</td>\n",
       "      <td>NaN</td>\n",
       "      <td>NaN</td>\n",
       "      <td>NaN</td>\n",
       "      <td>http://villa-luro.properati.com.ar/12m82_venta...</td>\n",
       "    </tr>\n",
       "  </tbody>\n",
       "</table>\n",
       "</div>"
      ],
      "text/plain": [
       "  operation property_type                            place_with_parent_names  \\\n",
       "0      sell     apartment           |Argentina|Capital Federal|Villa Crespo|   \n",
       "4      sell     apartment              |Argentina|Capital Federal|Chacarita|   \n",
       "6      sell     apartment         |Argentina|Bs.As. G.B.A. Zona Oeste|Morón|   \n",
       "8      sell     apartment  |Argentina|Bs.As. G.B.A. Zona Norte|Tigre|Nord...   \n",
       "9      sell     apartment             |Argentina|Capital Federal|Villa Luro|   \n",
       "\n",
       "                         lat-lon     price currency  \\\n",
       "0  -34.6047834183,-58.4586812499  180000.0      USD   \n",
       "4  -34.5846508988,-58.4546932614  129000.0      USD   \n",
       "6        -34.6558611,-58.6167212   55000.0      USD   \n",
       "8                            NaN  200000.0      USD   \n",
       "9         -34.6389789,-58.500115   87000.0      USD   \n",
       "\n",
       "   price_aprox_local_currency  price_aprox_usd  surface_total_in_m2  \\\n",
       "0                   2729232.0         180000.0                120.0   \n",
       "4                   1955949.6         129000.0                 76.0   \n",
       "6                    833932.0          55000.0                  NaN   \n",
       "8                   3032480.0         200000.0                 61.0   \n",
       "9                   1319128.8          87000.0                 48.0   \n",
       "\n",
       "   surface_covered_in_m2  price_usd_per_m2  price_per_m2  floor  rooms  \\\n",
       "0                  110.0       1500.000000   1636.363636    NaN    4.0   \n",
       "4                   70.0       1697.368421   1842.857143    NaN    NaN   \n",
       "6                    NaN               NaN           NaN    NaN    NaN   \n",
       "8                   48.0       3278.688525   4166.666667    NaN    2.0   \n",
       "9                   42.0       1812.500000   2071.428571    NaN    NaN   \n",
       "\n",
       "   expenses                                      properati_url  \n",
       "0       NaN  http://villa-crespo.properati.com.ar/12egq_ven...  \n",
       "4       NaN  http://chacarita.properati.com.ar/10qlv_venta_...  \n",
       "6       NaN  http://moron-bs-as-g-b-a-zona-oeste.properati....  \n",
       "8    3400.0  http://nordelta.properati.com.ar/vwbs_alquiler...  \n",
       "9       NaN  http://villa-luro.properati.com.ar/12m82_venta...  "
      ]
     },
     "execution_count": 10,
     "metadata": {},
     "output_type": "execute_result"
    }
   ],
   "source": [
    "apt=df[\"property_type\"]==\"apartment\"\n",
    "df[apt].head()"
   ]
  },
  {
   "cell_type": "markdown",
   "metadata": {},
   "source": [
    "Subsetting price"
   ]
  },
  {
   "cell_type": "code",
   "execution_count": 11,
   "metadata": {},
   "outputs": [
    {
     "data": {
      "text/html": [
       "<div>\n",
       "<style scoped>\n",
       "    .dataframe tbody tr th:only-of-type {\n",
       "        vertical-align: middle;\n",
       "    }\n",
       "\n",
       "    .dataframe tbody tr th {\n",
       "        vertical-align: top;\n",
       "    }\n",
       "\n",
       "    .dataframe thead th {\n",
       "        text-align: right;\n",
       "    }\n",
       "</style>\n",
       "<table border=\"1\" class=\"dataframe\">\n",
       "  <thead>\n",
       "    <tr style=\"text-align: right;\">\n",
       "      <th></th>\n",
       "      <th>operation</th>\n",
       "      <th>property_type</th>\n",
       "      <th>place_with_parent_names</th>\n",
       "      <th>lat-lon</th>\n",
       "      <th>price</th>\n",
       "      <th>currency</th>\n",
       "      <th>price_aprox_local_currency</th>\n",
       "      <th>price_aprox_usd</th>\n",
       "      <th>surface_total_in_m2</th>\n",
       "      <th>surface_covered_in_m2</th>\n",
       "      <th>price_usd_per_m2</th>\n",
       "      <th>price_per_m2</th>\n",
       "      <th>floor</th>\n",
       "      <th>rooms</th>\n",
       "      <th>expenses</th>\n",
       "      <th>properati_url</th>\n",
       "    </tr>\n",
       "  </thead>\n",
       "  <tbody>\n",
       "    <tr>\n",
       "      <th>0</th>\n",
       "      <td>sell</td>\n",
       "      <td>apartment</td>\n",
       "      <td>|Argentina|Capital Federal|Villa Crespo|</td>\n",
       "      <td>-34.6047834183,-58.4586812499</td>\n",
       "      <td>180000.0</td>\n",
       "      <td>USD</td>\n",
       "      <td>2729232.0</td>\n",
       "      <td>180000.0</td>\n",
       "      <td>120.0</td>\n",
       "      <td>110.0</td>\n",
       "      <td>1500.000000</td>\n",
       "      <td>1636.363636</td>\n",
       "      <td>NaN</td>\n",
       "      <td>4.0</td>\n",
       "      <td>NaN</td>\n",
       "      <td>http://villa-crespo.properati.com.ar/12egq_ven...</td>\n",
       "    </tr>\n",
       "    <tr>\n",
       "      <th>1</th>\n",
       "      <td>sell</td>\n",
       "      <td>house</td>\n",
       "      <td>|Argentina|Bs.As. G.B.A. Zona Oeste|La Matanza...</td>\n",
       "      <td>NaN</td>\n",
       "      <td>250000.0</td>\n",
       "      <td>USD</td>\n",
       "      <td>3790600.0</td>\n",
       "      <td>250000.0</td>\n",
       "      <td>117.0</td>\n",
       "      <td>120.0</td>\n",
       "      <td>2136.752137</td>\n",
       "      <td>2083.333333</td>\n",
       "      <td>NaN</td>\n",
       "      <td>4.0</td>\n",
       "      <td>NaN</td>\n",
       "      <td>http://ramos-mejia.properati.com.ar/s7pd_venta...</td>\n",
       "    </tr>\n",
       "    <tr>\n",
       "      <th>2</th>\n",
       "      <td>sell</td>\n",
       "      <td>house</td>\n",
       "      <td>|Argentina|Bs.As. G.B.A. Zona Oeste|Morón|Cast...</td>\n",
       "      <td>-34.6497002,-58.658073</td>\n",
       "      <td>410000.0</td>\n",
       "      <td>USD</td>\n",
       "      <td>6216584.0</td>\n",
       "      <td>410000.0</td>\n",
       "      <td>410.0</td>\n",
       "      <td>220.0</td>\n",
       "      <td>1000.000000</td>\n",
       "      <td>1863.636364</td>\n",
       "      <td>NaN</td>\n",
       "      <td>NaN</td>\n",
       "      <td>NaN</td>\n",
       "      <td>http://castelar-moron.properati.com.ar/11vgn_v...</td>\n",
       "    </tr>\n",
       "    <tr>\n",
       "      <th>3</th>\n",
       "      <td>sell</td>\n",
       "      <td>house</td>\n",
       "      <td>|Argentina|Bs.As. G.B.A. Zona Oeste|Tres de Fe...</td>\n",
       "      <td>-34.5957086,-58.5669503</td>\n",
       "      <td>180000.0</td>\n",
       "      <td>USD</td>\n",
       "      <td>2729232.0</td>\n",
       "      <td>180000.0</td>\n",
       "      <td>200.0</td>\n",
       "      <td>135.0</td>\n",
       "      <td>900.000000</td>\n",
       "      <td>1333.333333</td>\n",
       "      <td>NaN</td>\n",
       "      <td>5.0</td>\n",
       "      <td>NaN</td>\n",
       "      <td>http://tres-de-febrero.properati.com.ar/7f7u_v...</td>\n",
       "    </tr>\n",
       "    <tr>\n",
       "      <th>4</th>\n",
       "      <td>sell</td>\n",
       "      <td>apartment</td>\n",
       "      <td>|Argentina|Capital Federal|Chacarita|</td>\n",
       "      <td>-34.5846508988,-58.4546932614</td>\n",
       "      <td>129000.0</td>\n",
       "      <td>USD</td>\n",
       "      <td>1955949.6</td>\n",
       "      <td>129000.0</td>\n",
       "      <td>76.0</td>\n",
       "      <td>70.0</td>\n",
       "      <td>1697.368421</td>\n",
       "      <td>1842.857143</td>\n",
       "      <td>NaN</td>\n",
       "      <td>NaN</td>\n",
       "      <td>NaN</td>\n",
       "      <td>http://chacarita.properati.com.ar/10qlv_venta_...</td>\n",
       "    </tr>\n",
       "  </tbody>\n",
       "</table>\n",
       "</div>"
      ],
      "text/plain": [
       "  operation property_type                            place_with_parent_names  \\\n",
       "0      sell     apartment           |Argentina|Capital Federal|Villa Crespo|   \n",
       "1      sell         house  |Argentina|Bs.As. G.B.A. Zona Oeste|La Matanza...   \n",
       "2      sell         house  |Argentina|Bs.As. G.B.A. Zona Oeste|Morón|Cast...   \n",
       "3      sell         house  |Argentina|Bs.As. G.B.A. Zona Oeste|Tres de Fe...   \n",
       "4      sell     apartment              |Argentina|Capital Federal|Chacarita|   \n",
       "\n",
       "                         lat-lon     price currency  \\\n",
       "0  -34.6047834183,-58.4586812499  180000.0      USD   \n",
       "1                            NaN  250000.0      USD   \n",
       "2         -34.6497002,-58.658073  410000.0      USD   \n",
       "3        -34.5957086,-58.5669503  180000.0      USD   \n",
       "4  -34.5846508988,-58.4546932614  129000.0      USD   \n",
       "\n",
       "   price_aprox_local_currency  price_aprox_usd  surface_total_in_m2  \\\n",
       "0                   2729232.0         180000.0                120.0   \n",
       "1                   3790600.0         250000.0                117.0   \n",
       "2                   6216584.0         410000.0                410.0   \n",
       "3                   2729232.0         180000.0                200.0   \n",
       "4                   1955949.6         129000.0                 76.0   \n",
       "\n",
       "   surface_covered_in_m2  price_usd_per_m2  price_per_m2  floor  rooms  \\\n",
       "0                  110.0       1500.000000   1636.363636    NaN    4.0   \n",
       "1                  120.0       2136.752137   2083.333333    NaN    4.0   \n",
       "2                  220.0       1000.000000   1863.636364    NaN    NaN   \n",
       "3                  135.0        900.000000   1333.333333    NaN    5.0   \n",
       "4                   70.0       1697.368421   1842.857143    NaN    NaN   \n",
       "\n",
       "   expenses                                      properati_url  \n",
       "0       NaN  http://villa-crespo.properati.com.ar/12egq_ven...  \n",
       "1       NaN  http://ramos-mejia.properati.com.ar/s7pd_venta...  \n",
       "2       NaN  http://castelar-moron.properati.com.ar/11vgn_v...  \n",
       "3       NaN  http://tres-de-febrero.properati.com.ar/7f7u_v...  \n",
       "4       NaN  http://chacarita.properati.com.ar/10qlv_venta_...  "
      ]
     },
     "execution_count": 11,
     "metadata": {},
     "output_type": "execute_result"
    }
   ],
   "source": [
    "priceusd=df[\"price_aprox_usd\"]<500000\n",
    "df[priceusd].head()"
   ]
  },
  {
   "cell_type": "code",
   "execution_count": 12,
   "metadata": {},
   "outputs": [
    {
     "data": {
      "text/plain": [
       "(8606, 16)"
      ]
     },
     "execution_count": 12,
     "metadata": {},
     "output_type": "execute_result"
    }
   ],
   "source": [
    "df.shape"
   ]
  },
  {
   "cell_type": "code",
   "execution_count": 13,
   "metadata": {},
   "outputs": [
    {
     "data": {
      "text/plain": [
       "(1829, 16)"
      ]
     },
     "execution_count": 13,
     "metadata": {},
     "output_type": "execute_result"
    }
   ],
   "source": [
    "df=df[CapFed & apt & priceusd]\n",
    "df.shape"
   ]
  },
  {
   "cell_type": "markdown",
   "metadata": {},
   "source": [
    "#### Explore"
   ]
  },
  {
   "cell_type": "markdown",
   "metadata": {},
   "source": [
    "- We know that property size(Area) is an important factor in determining price.\n",
    "- Let us look at the distribution of apartment sizes in our dataset. "
   ]
  },
  {
   "cell_type": "code",
   "execution_count": 15,
   "metadata": {
    "scrolled": false
   },
   "outputs": [
    {
     "data": {
      "image/png": "[encoded data removed]",
      "text/plain": [
       "<Figure size 432x288 with 1 Axes>"
      ]
     },
     "metadata": {
      "needs_background": "light"
     },
     "output_type": "display_data"
    }
   ],
   "source": [
    "# Create a histogram of `\"surface_covered_in_m2\"`\n",
    "plt.hist(df[\"surface_covered_in_m2\"])\n",
    "plt.xlabel([\"Area sq meters\"]);\n",
    "plt.title([\"Distribution of Apartment Sizes\"]);"
   ]
  },
  {
   "cell_type": "markdown",
   "metadata": {},
   "source": [
    "When you see a histogram, it suggests that there are outliers in your dataset.  \n",
    "- To confirm, let's look at the summary statistics for the `\"surface_covered_in_m2\"` feature. "
   ]
  },
  {
   "cell_type": "code",
   "execution_count": 16,
   "metadata": {
    "scrolled": false
   },
   "outputs": [
    {
     "data": {
      "text/plain": [
       "count     1678.000000\n",
       "mean        98.862932\n",
       "std       1513.324026\n",
       "min          0.000000\n",
       "25%         38.000000\n",
       "50%         51.000000\n",
       "75%         75.000000\n",
       "max      62034.000000\n",
       "Name: surface_covered_in_m2, dtype: float64"
      ]
     },
     "execution_count": 16,
     "metadata": {},
     "output_type": "execute_result"
    }
   ],
   "source": [
    "df[\"surface_covered_in_m2\"].describe()"
   ]
  },
  {
   "cell_type": "code",
   "execution_count": 22,
   "metadata": {
    "scrolled": true
   },
   "outputs": [
    {
     "data": {
      "text/plain": [
       "0.1     31.0\n",
       "0.9    105.3\n",
       "Name: surface_covered_in_m2, dtype: float64"
      ]
     },
     "execution_count": 22,
     "metadata": {},
     "output_type": "execute_result"
    }
   ],
   "source": [
    "df['surface_covered_in_m2'].quantile([0.1,0.9])"
   ]
  },
  {
   "cell_type": "markdown",
   "metadata": {},
   "source": [
    "The descriptive statistics confirm what we suspected. \n",
    "- While most of the apartments in our dataset are smaller that 75 square meters, \n",
    "- there are some that are several thousand square meters, and remove them from the dataset. "
   ]
  },
  {
   "cell_type": "code",
   "execution_count": 18,
   "metadata": {
    "scrolled": true
   },
   "outputs": [
    {
     "data": {
      "text/html": [
       "<div>\n",
       "<style scoped>\n",
       "    .dataframe tbody tr th:only-of-type {\n",
       "        vertical-align: middle;\n",
       "    }\n",
       "\n",
       "    .dataframe tbody tr th {\n",
       "        vertical-align: top;\n",
       "    }\n",
       "\n",
       "    .dataframe thead th {\n",
       "        text-align: right;\n",
       "    }\n",
       "</style>\n",
       "<table border=\"1\" class=\"dataframe\">\n",
       "  <thead>\n",
       "    <tr style=\"text-align: right;\">\n",
       "      <th></th>\n",
       "      <th>operation</th>\n",
       "      <th>property_type</th>\n",
       "      <th>place_with_parent_names</th>\n",
       "      <th>lat-lon</th>\n",
       "      <th>price</th>\n",
       "      <th>currency</th>\n",
       "      <th>price_aprox_local_currency</th>\n",
       "      <th>price_aprox_usd</th>\n",
       "      <th>surface_total_in_m2</th>\n",
       "      <th>surface_covered_in_m2</th>\n",
       "      <th>price_usd_per_m2</th>\n",
       "      <th>price_per_m2</th>\n",
       "      <th>floor</th>\n",
       "      <th>rooms</th>\n",
       "      <th>expenses</th>\n",
       "      <th>properati_url</th>\n",
       "    </tr>\n",
       "  </thead>\n",
       "  <tbody>\n",
       "    <tr>\n",
       "      <th>4</th>\n",
       "      <td>sell</td>\n",
       "      <td>apartment</td>\n",
       "      <td>|Argentina|Capital Federal|Chacarita|</td>\n",
       "      <td>-34.5846508988,-58.4546932614</td>\n",
       "      <td>129000.0</td>\n",
       "      <td>USD</td>\n",
       "      <td>1955949.6</td>\n",
       "      <td>129000.0</td>\n",
       "      <td>76.0</td>\n",
       "      <td>70.0</td>\n",
       "      <td>1697.368421</td>\n",
       "      <td>1842.857143</td>\n",
       "      <td>NaN</td>\n",
       "      <td>NaN</td>\n",
       "      <td>NaN</td>\n",
       "      <td>http://chacarita.properati.com.ar/10qlv_venta_...</td>\n",
       "    </tr>\n",
       "    <tr>\n",
       "      <th>9</th>\n",
       "      <td>sell</td>\n",
       "      <td>apartment</td>\n",
       "      <td>|Argentina|Capital Federal|Villa Luro|</td>\n",
       "      <td>-34.6389789,-58.500115</td>\n",
       "      <td>87000.0</td>\n",
       "      <td>USD</td>\n",
       "      <td>1319128.8</td>\n",
       "      <td>87000.0</td>\n",
       "      <td>48.0</td>\n",
       "      <td>42.0</td>\n",
       "      <td>1812.500000</td>\n",
       "      <td>2071.428571</td>\n",
       "      <td>NaN</td>\n",
       "      <td>NaN</td>\n",
       "      <td>NaN</td>\n",
       "      <td>http://villa-luro.properati.com.ar/12m82_venta...</td>\n",
       "    </tr>\n",
       "    <tr>\n",
       "      <th>29</th>\n",
       "      <td>sell</td>\n",
       "      <td>apartment</td>\n",
       "      <td>|Argentina|Capital Federal|Caballito|</td>\n",
       "      <td>-34.615847,-58.459957</td>\n",
       "      <td>118000.0</td>\n",
       "      <td>USD</td>\n",
       "      <td>1789163.2</td>\n",
       "      <td>118000.0</td>\n",
       "      <td>NaN</td>\n",
       "      <td>54.0</td>\n",
       "      <td>NaN</td>\n",
       "      <td>2185.185185</td>\n",
       "      <td>NaN</td>\n",
       "      <td>2.0</td>\n",
       "      <td>NaN</td>\n",
       "      <td>http://caballito.properati.com.ar/11wqh_venta_...</td>\n",
       "    </tr>\n",
       "    <tr>\n",
       "      <th>40</th>\n",
       "      <td>sell</td>\n",
       "      <td>apartment</td>\n",
       "      <td>|Argentina|Capital Federal|Constitución|</td>\n",
       "      <td>-34.6252219,-58.3823825</td>\n",
       "      <td>57000.0</td>\n",
       "      <td>USD</td>\n",
       "      <td>864256.8</td>\n",
       "      <td>57000.0</td>\n",
       "      <td>42.0</td>\n",
       "      <td>42.0</td>\n",
       "      <td>1357.142857</td>\n",
       "      <td>1357.142857</td>\n",
       "      <td>5.0</td>\n",
       "      <td>2.0</td>\n",
       "      <td>364.0</td>\n",
       "      <td>http://constitucion.properati.com.ar/k2f0_vent...</td>\n",
       "    </tr>\n",
       "    <tr>\n",
       "      <th>41</th>\n",
       "      <td>sell</td>\n",
       "      <td>apartment</td>\n",
       "      <td>|Argentina|Capital Federal|Once|</td>\n",
       "      <td>-34.6106102,-58.4125107</td>\n",
       "      <td>90000.0</td>\n",
       "      <td>USD</td>\n",
       "      <td>1364616.0</td>\n",
       "      <td>90000.0</td>\n",
       "      <td>57.0</td>\n",
       "      <td>50.0</td>\n",
       "      <td>1578.947368</td>\n",
       "      <td>1800.000000</td>\n",
       "      <td>NaN</td>\n",
       "      <td>3.0</td>\n",
       "      <td>450.0</td>\n",
       "      <td>http://once.properati.com.ar/suwa_venta_depart...</td>\n",
       "    </tr>\n",
       "  </tbody>\n",
       "</table>\n",
       "</div>"
      ],
      "text/plain": [
       "   operation property_type                   place_with_parent_names  \\\n",
       "4       sell     apartment     |Argentina|Capital Federal|Chacarita|   \n",
       "9       sell     apartment    |Argentina|Capital Federal|Villa Luro|   \n",
       "29      sell     apartment     |Argentina|Capital Federal|Caballito|   \n",
       "40      sell     apartment  |Argentina|Capital Federal|Constitución|   \n",
       "41      sell     apartment          |Argentina|Capital Federal|Once|   \n",
       "\n",
       "                          lat-lon     price currency  \\\n",
       "4   -34.5846508988,-58.4546932614  129000.0      USD   \n",
       "9          -34.6389789,-58.500115   87000.0      USD   \n",
       "29          -34.615847,-58.459957  118000.0      USD   \n",
       "40        -34.6252219,-58.3823825   57000.0      USD   \n",
       "41        -34.6106102,-58.4125107   90000.0      USD   \n",
       "\n",
       "    price_aprox_local_currency  price_aprox_usd  surface_total_in_m2  \\\n",
       "4                    1955949.6         129000.0                 76.0   \n",
       "9                    1319128.8          87000.0                 48.0   \n",
       "29                   1789163.2         118000.0                  NaN   \n",
       "40                    864256.8          57000.0                 42.0   \n",
       "41                   1364616.0          90000.0                 57.0   \n",
       "\n",
       "    surface_covered_in_m2  price_usd_per_m2  price_per_m2  floor  rooms  \\\n",
       "4                    70.0       1697.368421   1842.857143    NaN    NaN   \n",
       "9                    42.0       1812.500000   2071.428571    NaN    NaN   \n",
       "29                   54.0               NaN   2185.185185    NaN    2.0   \n",
       "40                   42.0       1357.142857   1357.142857    5.0    2.0   \n",
       "41                   50.0       1578.947368   1800.000000    NaN    3.0   \n",
       "\n",
       "    expenses                                      properati_url  \n",
       "4        NaN  http://chacarita.properati.com.ar/10qlv_venta_...  \n",
       "9        NaN  http://villa-luro.properati.com.ar/12m82_venta...  \n",
       "29       NaN  http://caballito.properati.com.ar/11wqh_venta_...  \n",
       "40     364.0  http://constitucion.properati.com.ar/k2f0_vent...  \n",
       "41     450.0  http://once.properati.com.ar/suwa_venta_depart...  "
      ]
     },
     "execution_count": 18,
     "metadata": {},
     "output_type": "execute_result"
    }
   ],
   "source": [
    "low, high = df[\"surface_covered_in_m2\"].quantile([0.1,0.9])\n",
    "\n",
    "subarea=df[\"surface_covered_in_m2\"].between(low,high)\n",
    "df[subarea].head()"
   ]
  },
  {
   "cell_type": "code",
   "execution_count": 24,
   "metadata": {},
   "outputs": [
    {
     "data": {
      "text/plain": [
       "(1829, 16)"
      ]
     },
     "execution_count": 24,
     "metadata": {},
     "output_type": "execute_result"
    }
   ],
   "source": [
    "df.shape"
   ]
  },
  {
   "cell_type": "code",
   "execution_count": 25,
   "metadata": {},
   "outputs": [
    {
     "name": "stderr",
     "output_type": "stream",
     "text": [
      "<ipython-input-25-b46a8bac81db>:1: UserWarning: Boolean Series key will be reindexed to match DataFrame index.\n",
      "  df=df[CapFed & apt & priceusd & subarea]\n"
     ]
    },
    {
     "data": {
      "text/plain": [
       "(1371, 16)"
      ]
     },
     "execution_count": 25,
     "metadata": {},
     "output_type": "execute_result"
    }
   ],
   "source": [
    "df=df[CapFed & apt & priceusd & subarea]\n",
    "df.shape"
   ]
  },
  {
   "cell_type": "markdown",
   "metadata": {},
   "source": [
    "Let us create a scatter plot that shows price (`\"price_aprox_usd\"`) vs area (`\"surface_covered_in_m2\"`) in our dataset. "
   ]
  },
  {
   "cell_type": "code",
   "execution_count": 26,
   "metadata": {},
   "outputs": [
    {
     "data": {
      "image/png": "[encoded data removed]",
      "text/plain": [
       "<Figure size 432x288 with 1 Axes>"
      ]
     },
     "metadata": {
      "needs_background": "light"
     },
     "output_type": "display_data"
    }
   ],
   "source": [
    "plt.scatter(x=df[\"surface_covered_in_m2\"],y=df[\"price_aprox_usd\"])\n",
    "plt.xlabel(\"Area sq meters\")\n",
    "plt.ylabel(\"Price in USD\")\n",
    "plt.title(\"Buenos:Price vs Area\");"
   ]
  },
  {
   "cell_type": "markdown",
   "metadata": {},
   "source": [
    "- This plot suggests that there's a moderate positive correlation between apartment price and size. \n",
    "    - This means that size(area) will be a good feature to predict price \n",
    "\n",
    "Using descriptive statistics;"
   ]
  },
  {
   "cell_type": "code",
   "execution_count": 27,
   "metadata": {},
   "outputs": [
    {
     "name": "stdout",
     "output_type": "stream",
     "text": [
      "Correlation of AREA vs PRICE:Buenos 0.6732134966190122\n"
     ]
    }
   ],
   "source": [
    "# Calculate correlation of \"price_usd\" and \"area_m2\"\n",
    "correlation = df[\"surface_covered_in_m2\"].corr(df[\"price_aprox_usd\"])\n",
    "\n",
    "# Print correlation coefficient\n",
    "print(\"Correlation of AREA vs PRICE:Buenos\", correlation)"
   ]
  },
  {
   "cell_type": "markdown",
   "metadata": {},
   "source": [
    "#### Split"
   ]
  },
  {
   "cell_type": "markdown",
   "metadata": {},
   "source": [
    "A key part in any model-building project is separating;\n",
    "- your **target** (the thing you want to predict) from \n",
    "- your **features** (the information your model will use to make its predictions). \n",
    "\n",
    "In this project:\n",
    "- Price is the target\n",
    "- Size is the feature\n",
    "\n",
    "we are going to predict `price(y)` as a `linear function` of `size(x)`: $y=mx+b$ \n",
    "\n",
    "    That is:  price = m*size + b \n",
    "\n",
    "**Linear Regression:** \n",
    "- It is a statistical method used to model the relationship between `a dependent variable` and `one or more independent variables` by fitting `a linear equation` to the observed data. \n",
    "- However, linear regression can handle multiple independent variables, not just one. \n",
    "    - When there's only one independent variable, it's called `simple linear regression`. \n",
    "    - When there are multiple independent variables, it's called `multiple linear regression`. \n",
    "\n",
    "In both cases, the relationship is still linear, but there can be more than one independent variable."
   ]
  },
  {
   "cell_type": "raw",
   "metadata": {},
   "source": [
    "df[[\"price_aprox_usd\",\"surface_covered_in_m2\"]].head()"
   ]
  },
  {
   "cell_type": "markdown",
   "metadata": {},
   "source": [
    "**Feature Matrix**\n",
    "\n",
    "Create the feature matrix named `X_train`, which you'll use to train your model. \n",
    "- It should contain one feature only: `[\"surface_covered_in_m2\"]`. \n",
    "- Feature matrix should always be two-dimensional. "
   ]
  },
  {
   "cell_type": "code",
   "execution_count": null,
   "metadata": {},
   "outputs": [],
   "source": [
    "features = [\"surface_covered_in_m2\"]\n",
    "X_train = df[features]\n",
    "print(X_train.shape)\n",
    "X_train.head()"
   ]
  },
  {
   "cell_type": "markdown",
   "metadata": {},
   "source": [
    "**Target Vector**"
   ]
  },
  {
   "cell_type": "markdown",
   "metadata": {},
   "source": [
    "Create the target vector named `y_train`, which you'll use to train your model.\n",
    "- Here, the target vector is `\"price_aprox_usd\"`. \n",
    "- In most cases, target vector should be one-dimensional. \n"
   ]
  },
  {
   "cell_type": "code",
   "execution_count": 28,
   "metadata": {},
   "outputs": [
    {
     "data": {
      "text/plain": [
       "(1371,)"
      ]
     },
     "execution_count": 28,
     "metadata": {},
     "output_type": "execute_result"
    }
   ],
   "source": [
    "target = \"price_aprox_usd\"\n",
    "y_train = df[target]\n",
    "y_train.shape\n",
    "#print(y_train.head())"
   ]
  },
  {
   "cell_type": "markdown",
   "metadata": {},
   "source": [
    "### Build Model"
   ]
  },
  {
   "cell_type": "code",
   "execution_count": null,
   "metadata": {},
   "outputs": [],
   "source": []
  }
 ],
 "metadata": {
  "kernelspec": {
   "display_name": "Python 3",
   "language": "python",
   "name": "python3"
  },
  "language_info": {
   "codemirror_mode": {
    "name": "ipython",
    "version": 3
   },
   "file_extension": ".py",
   "mimetype": "text/x-python",
   "name": "python",
   "nbconvert_exporter": "python",
   "pygments_lexer": "ipython3",
   "version": "3.8.5"
  }
 },
 "nbformat": 4,
 "nbformat_minor": 4
}
