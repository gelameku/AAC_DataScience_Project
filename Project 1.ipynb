{
  "cells": [
    {
      "cell_type": "markdown",
      "metadata": {
        "id": "E5SaiVSgd61k"
      },
      "source": [
        " **Task #1: Define a function**\n",
        "- Which takes an integer n\n",
        "- With a constraint 1 <= n <= 100\n",
        "- Has a task, performing the following conditions:\n",
        "    - if n is odd, print Weird\n",
        "    - if n is even and in the inclusive range of 2 to 5, print Not Weird\n",
        "    - if n is even and in the inclusive range of 6 to 20, print Weird\n",
        "    - if n is even and greater than 20, print Not Weird"
      ],
      "id": "E5SaiVSgd61k"
    },
    {
      "cell_type": "code",
      "execution_count": null,
      "metadata": {
        "id": "MBHrMEyxd61x"
      },
      "outputs": [],
      "source": [
        "#Option one\n",
        "\n",
        "def evaluate_number(n):\n",
        "    if 1 <= n <= 100:\n",
        "        if n % 2 == 1:\n",
        "            print(\"Weird\")\n",
        "        elif n % 2 == 0 and 2 <= n <= 5:\n",
        "            print(\"Not Weird\")\n",
        "        elif n % 2 == 0 and 6 <= n <= 20:\n",
        "            print(\"Weird\")\n",
        "        elif n % 2 == 0 and n > 20:\n",
        "            print(\"Not Weird\")\n",
        "    else:\n",
        "        print(\"Please enter a valid integer within the specified range.\")"
      ],
      "id": "MBHrMEyxd61x"
    },
    {
      "cell_type": "code",
      "execution_count": null,
      "metadata": {
        "id": "3Pj_xoaed612"
      },
      "outputs": [],
      "source": [
        "evaluate_number(101)"
      ],
      "id": "3Pj_xoaed612"
    },
    {
      "cell_type": "code",
      "execution_count": null,
      "metadata": {
        "scrolled": false,
        "id": "VyO6Yvn6d613"
      },
      "outputs": [],
      "source": [
        "n = int(input(\"Enter an integer (1 ≤ n ≤ 100): \"))\n",
        "if 1 <= n <= 100:\n",
        "    if 1 <= n <= 100:\n",
        "        if n % 2 == 1:\n",
        "            print(\"Weird\")\n",
        "        elif n % 2 == 0 and 2 <= n <= 5:\n",
        "            print(\"Not Weird\")\n",
        "        elif n % 2 == 0 and 6 <= n <= 20:\n",
        "            print(\"Weird\")\n",
        "        elif n % 2 == 0 and n > 20:\n",
        "            print(\"Not Weird\")\n",
        "else:\n",
        "    print(\"Please enter a valid integer within the specified range.\")"
      ],
      "id": "VyO6Yvn6d613"
    },
    {
      "cell_type": "code",
      "execution_count": null,
      "metadata": {
        "id": "2jPunSLdd616"
      },
      "outputs": [],
      "source": [
        "#Option Two\n",
        "\n",
        "def evaluate_Number1(n):\n",
        "        if (n % 2 == 1) or n % 2 == 0 and 6 <= n <= 20:\n",
        "            print(\"Weird\")\n",
        "        elif (n % 2 == 0 and 2 <= n <= 5) or n % 2 == 0 and n > 20:\n",
        "            print(\"Not Weird\")"
      ],
      "id": "2jPunSLdd616"
    },
    {
      "cell_type": "code",
      "execution_count": null,
      "metadata": {
        "scrolled": false,
        "id": "1xSsQ74od618"
      },
      "outputs": [],
      "source": [
        "n = int(input(\"Enter an integer (1 ≤ n ≤ 100): \"))\n",
        "if 1 <= n <= 100:\n",
        "    evaluate_Number1(n)\n",
        "else:\n",
        "    print(\"Please enter a valid integer within the specified range.\")"
      ],
      "id": "1xSsQ74od618"
    },
    {
      "cell_type": "code",
      "execution_count": null,
      "metadata": {
        "scrolled": false,
        "id": "Fil0q_hVd61-"
      },
      "outputs": [],
      "source": [
        "n = int(input(\"Enter an integer (1 ≤ n ≤ 100): \"))\n",
        "if 1 <= n <= 100:\n",
        "    evaluate_Number1(n)\n",
        "else:\n",
        "    print(\"Please enter a valid integer within the specified range.\")"
      ],
      "id": "Fil0q_hVd61-"
    },
    {
      "cell_type": "markdown",
      "metadata": {
        "id": "rYOp8btcd62A"
      },
      "source": [
        "**TASK #1**"
      ],
      "id": "rYOp8btcd62A"
    },
    {
      "cell_type": "code",
      "execution_count": null,
      "metadata": {
        "scrolled": false,
        "id": "jwsTWKXbd62C"
      },
      "outputs": [],
      "source": [
        "def check_weirdness():\n",
        "    n = int(input(\"Enter an integer (1 ≤ n ≤ 100): \"))\n",
        "    if 1 <= n <= 100:\n",
        "        if (n % 2 == 1) or n % 2 == 0 and 6 <= n <= 20:\n",
        "            print(\"Weird\")\n",
        "        elif (n % 2 == 0 and 2 <= n <= 5) or n % 2 == 0 and n > 20:\n",
        "            print(\"Not Weird\")\n",
        "    else:\n",
        "        print(\"Please enter a valid integer within the specified range.\")"
      ],
      "id": "jwsTWKXbd62C"
    },
    {
      "cell_type": "code",
      "execution_count": null,
      "metadata": {
        "id": "n17Sqiezd62E",
        "outputId": "db80877c-627d-4caf-94a6-f62b5609716c"
      },
      "outputs": [
        {
          "name": "stdout",
          "output_type": "stream",
          "text": [
            "Enter an integer (1 ≤ n ≤ 100): 110\n",
            "Please enter a valid integer within the specified range.\n"
          ]
        }
      ],
      "source": [
        "check_weirdness()"
      ],
      "id": "n17Sqiezd62E"
    },
    {
      "cell_type": "markdown",
      "metadata": {
        "id": "YDgfvZiTd62H"
      },
      "source": [
        "**Task #2: Indexing and Slicing**\n",
        "\n",
        "   1.Create a list containing numbers from 1 to 10."
      ],
      "id": "YDgfvZiTd62H"
    },
    {
      "cell_type": "code",
      "execution_count": null,
      "metadata": {
        "id": "d26c-Lo9d62I"
      },
      "outputs": [],
      "source": [
        "My_Numbers = [1,2,3,4,5,6,7,8,9,10]"
      ],
      "id": "d26c-Lo9d62I"
    },
    {
      "cell_type": "markdown",
      "metadata": {
        "id": "h_Byu8eld62J"
      },
      "source": [
        "2. Print the first element of the list."
      ],
      "id": "h_Byu8eld62J"
    },
    {
      "cell_type": "code",
      "execution_count": null,
      "metadata": {
        "scrolled": true,
        "id": "J1k6a_Fcd62K",
        "outputId": "c6353f32-1c4d-420f-dccf-4bb6a8681e27"
      },
      "outputs": [
        {
          "name": "stdout",
          "output_type": "stream",
          "text": [
            "1\n"
          ]
        }
      ],
      "source": [
        "print(My_Numbers[0])"
      ],
      "id": "J1k6a_Fcd62K"
    },
    {
      "cell_type": "markdown",
      "metadata": {
        "id": "FeXxIDnqd62L"
      },
      "source": [
        "3. Print the last element of the list using negative indexing."
      ],
      "id": "FeXxIDnqd62L"
    },
    {
      "cell_type": "code",
      "execution_count": null,
      "metadata": {
        "scrolled": false,
        "id": "a_uQhpDhd62M",
        "outputId": "44617d04-cfb9-443d-e683-60f9ef6be55d"
      },
      "outputs": [
        {
          "name": "stdout",
          "output_type": "stream",
          "text": [
            "10\n"
          ]
        }
      ],
      "source": [
        "print(My_Numbers[-1])"
      ],
      "id": "a_uQhpDhd62M"
    },
    {
      "cell_type": "markdown",
      "metadata": {
        "id": "srZ3WUNzd62O"
      },
      "source": [
        "4. Print elements from the 3rd to 6th position using slicing."
      ],
      "id": "srZ3WUNzd62O"
    },
    {
      "cell_type": "code",
      "execution_count": null,
      "metadata": {
        "id": "IIIl6Bkgd62O",
        "outputId": "a4ff0727-0750-4c8a-bea9-b1b53ddad124"
      },
      "outputs": [
        {
          "name": "stdout",
          "output_type": "stream",
          "text": [
            "[3, 4, 5, 6]\n"
          ]
        }
      ],
      "source": [
        "#Option One\n",
        "Selected_Elements = My_Numbers[2:6]\n",
        "print(Selected_Elements)"
      ],
      "id": "IIIl6Bkgd62O"
    },
    {
      "cell_type": "code",
      "execution_count": null,
      "metadata": {
        "scrolled": true,
        "id": "pyEHiSqPd62P",
        "outputId": "446e310f-fe98-4d9f-cb31-847dd5476a8c"
      },
      "outputs": [
        {
          "name": "stdout",
          "output_type": "stream",
          "text": [
            "[3, 4, 5, 6]\n"
          ]
        }
      ],
      "source": [
        "#Option Two\n",
        "print(My_Numbers[2:6])"
      ],
      "id": "pyEHiSqPd62P"
    },
    {
      "cell_type": "markdown",
      "metadata": {
        "id": "ylSdPT6od62Q"
      },
      "source": [
        "5. Print every alternate element of the list."
      ],
      "id": "ylSdPT6od62Q"
    },
    {
      "cell_type": "code",
      "execution_count": null,
      "metadata": {
        "id": "wRVEnWnrd62Q"
      },
      "outputs": [],
      "source": [
        "Alternate_Element = (My_Numbers[::2])"
      ],
      "id": "wRVEnWnrd62Q"
    },
    {
      "cell_type": "code",
      "execution_count": null,
      "metadata": {
        "id": "E2ggGjfLd62R"
      },
      "outputs": [],
      "source": [],
      "id": "E2ggGjfLd62R"
    },
    {
      "cell_type": "code",
      "execution_count": null,
      "metadata": {
        "id": "dWcPaPx8d62S"
      },
      "outputs": [],
      "source": [
        "print(Alternate_Element)"
      ],
      "id": "dWcPaPx8d62S"
    },
    {
      "cell_type": "markdown",
      "metadata": {
        "id": "5mBJ_0rud62S"
      },
      "source": [
        "**TASK #2**"
      ],
      "id": "5mBJ_0rud62S"
    },
    {
      "cell_type": "code",
      "execution_count": null,
      "metadata": {
        "id": "4TX8aT5Qd62T",
        "outputId": "f383e77d-ba2e-4ef2-a12b-9f7f52f13ee0"
      },
      "outputs": [
        {
          "name": "stdout",
          "output_type": "stream",
          "text": [
            "[3, 4, 5, 6]\n",
            "[3, 5]\n"
          ]
        }
      ],
      "source": [
        "# What if a list containing numbers from 1 to 1000?\n",
        "L = list(range(1001))\n",
        "\n",
        "# List using variables\n",
        "start =2\n",
        "stop = 6\n",
        "step = 2\n",
        "f1 = My_Numbers[2:6]\n",
        "print(f1)\n",
        "f2 = My_Numbers[start:stop:step]\n",
        "print(f2)"
      ],
      "id": "4TX8aT5Qd62T"
    },
    {
      "cell_type": "markdown",
      "metadata": {
        "id": "1PNOvBXtd62T"
      },
      "source": [
        "***Task #3: Accessing Nested Lists***  \n",
        "1. Create a nested list containing three inner lists, each with three\n",
        "elements."
      ],
      "id": "1PNOvBXtd62T"
    },
    {
      "cell_type": "code",
      "execution_count": null,
      "metadata": {
        "id": "FgVAlMuEd62U"
      },
      "outputs": [],
      "source": [
        "Nested_list = [['Java', 'Python', 'SQL'],[1, 2, 3],['Apple', 'Banana', 'orange']]"
      ],
      "id": "FgVAlMuEd62U"
    },
    {
      "cell_type": "markdown",
      "metadata": {
        "id": "FoN0ClYYd62U"
      },
      "source": [
        "2. Access the second element of the first inner list."
      ],
      "id": "FoN0ClYYd62U"
    },
    {
      "cell_type": "code",
      "execution_count": null,
      "metadata": {
        "scrolled": true,
        "id": "n3-8mgX3d62U",
        "outputId": "df6e2bcd-f3e4-41b9-8504-9f4101728584"
      },
      "outputs": [
        {
          "name": "stdout",
          "output_type": "stream",
          "text": [
            "1\n"
          ]
        }
      ],
      "source": [
        "print(Nested_list[0][1])"
      ],
      "id": "n3-8mgX3d62U"
    },
    {
      "cell_type": "markdown",
      "metadata": {
        "id": "9zbgnWzid62V"
      },
      "source": [
        "3. Access the third element of the third inner list."
      ],
      "id": "9zbgnWzid62V"
    },
    {
      "cell_type": "code",
      "execution_count": null,
      "metadata": {
        "id": "PN6zcZ69d62V"
      },
      "outputs": [],
      "source": [
        "print(Nested_list[2][2])"
      ],
      "id": "PN6zcZ69d62V"
    },
    {
      "cell_type": "markdown",
      "metadata": {
        "id": "UAKABOeed62W"
      },
      "source": [
        "4. Print the second element of each inner list using a loop."
      ],
      "id": "UAKABOeed62W"
    },
    {
      "cell_type": "code",
      "execution_count": null,
      "metadata": {
        "scrolled": true,
        "id": "Jlh8nSbld62X",
        "outputId": "26894f6f-3533-4e85-8fe4-9ab9cf9d7dfa"
      },
      "outputs": [
        {
          "name": "stdout",
          "output_type": "stream",
          "text": [
            "Python\n",
            "2\n",
            "Banana\n"
          ]
        }
      ],
      "source": [
        "for i in Nested_list:\n",
        "    print(i[1])"
      ],
      "id": "Jlh8nSbld62X"
    },
    {
      "cell_type": "markdown",
      "metadata": {
        "id": "MvC59cc7d62Y"
      },
      "source": [
        "**TASK #3**"
      ],
      "id": "MvC59cc7d62Y"
    },
    {
      "cell_type": "markdown",
      "metadata": {
        "id": "11Q334aBd62Y"
      },
      "source": [
        "List = 1DArray = [1,2,3,4]\n",
        "\n",
        "Nested List = [[1,2],[3,4]] = 2DArray\n",
        "\n",
        "Nested list of nested list = [[[1,2],[3,4]],[[5,6],[7,8]]] =3DArray"
      ],
      "id": "11Q334aBd62Y"
    },
    {
      "cell_type": "code",
      "execution_count": null,
      "metadata": {
        "id": "BhdiKFNrd62Y"
      },
      "outputs": [],
      "source": [
        "L = [[[1,2],[3,4]],[[5,6],[7,8]]]"
      ],
      "id": "BhdiKFNrd62Y"
    },
    {
      "cell_type": "code",
      "execution_count": null,
      "metadata": {
        "id": "TAnyo1p8d62Z",
        "outputId": "fb7ee161-6f84-4430-81f0-117df7e672b1"
      },
      "outputs": [
        {
          "data": {
            "text/plain": [
              "4"
            ]
          },
          "execution_count": 36,
          "metadata": {},
          "output_type": "execute_result"
        }
      ],
      "source": [
        "L[0][1][1]"
      ],
      "id": "TAnyo1p8d62Z"
    },
    {
      "cell_type": "code",
      "execution_count": null,
      "metadata": {
        "id": "a1ADv0tSd62a"
      },
      "outputs": [],
      "source": [
        "# 2x3x4\n",
        "\n",
        "M = [[[1,2,3,4],[5,6,7,8],[9,10,11,12]],[[13,14,15,16],[17,18,19,20],[21,22,23,24]]]\n"
      ],
      "id": "a1ADv0tSd62a"
    },
    {
      "cell_type": "code",
      "execution_count": null,
      "metadata": {
        "id": "OfsAk3yMd62b",
        "outputId": "e59b3dc9-fcd7-4f89-dd3c-26398716c469"
      },
      "outputs": [
        {
          "name": "stdout",
          "output_type": "stream",
          "text": [
            "5\n"
          ]
        }
      ],
      "source": [
        "NL = [[1,2],[3,4,5]] # 2D Array\n",
        "#print(NL[0])\n",
        "#print(NL[1])\n",
        "\n",
        "print(NL[1][2])"
      ],
      "id": "OfsAk3yMd62b"
    },
    {
      "cell_type": "markdown",
      "metadata": {
        "id": "AvmMl9_Cd62y"
      },
      "source": [
        "**Task #4: List Comprehension**  \n",
        "1. Create a list containing numbers from 1 to 10."
      ],
      "id": "AvmMl9_Cd62y"
    },
    {
      "cell_type": "code",
      "execution_count": null,
      "metadata": {
        "scrolled": true,
        "id": "H1op0Mfld62z"
      },
      "outputs": [],
      "source": [
        "Our_list = [1,2,3,4,5,6,7,8,9,10]  # What if 1 to 1000?"
      ],
      "id": "H1op0Mfld62z"
    },
    {
      "cell_type": "markdown",
      "metadata": {
        "id": "3mHaqTTjd62z"
      },
      "source": [
        "2. Use list comprehension to create a new list containing only the  \n",
        "even numbers from the original list."
      ],
      "id": "3mHaqTTjd62z"
    },
    {
      "cell_type": "code",
      "execution_count": null,
      "metadata": {
        "scrolled": false,
        "id": "7nt9J_gWd620",
        "outputId": "3b482f61-5215-41b2-bcee-01a00d4f00c6"
      },
      "outputs": [
        {
          "data": {
            "text/plain": [
              "[2, 4, 6, 8, 10]"
            ]
          },
          "execution_count": 40,
          "metadata": {},
          "output_type": "execute_result"
        }
      ],
      "source": [
        "even_numbers = [i for i in Our_list if i % 2 == 0]\n",
        "even_numbers"
      ],
      "id": "7nt9J_gWd620"
    },
    {
      "cell_type": "code",
      "execution_count": null,
      "metadata": {
        "scrolled": true,
        "id": "vWTQ1XZvd621",
        "outputId": "a89f0846-84cc-48b8-b20a-d45d2cab70e2"
      },
      "outputs": [
        {
          "name": "stdout",
          "output_type": "stream",
          "text": [
            "Even Number =  [2, 4, 6, 8, 10]\n"
          ]
        }
      ],
      "source": [
        "print(\"Even Number = \", even_numbers)"
      ],
      "id": "vWTQ1XZvd621"
    },
    {
      "cell_type": "markdown",
      "metadata": {
        "id": "3QAEBecgd621"
      },
      "source": [
        "3. Use list comprehension to create a new list containing the squares  \n",
        "of odd numbers from the original list."
      ],
      "id": "3QAEBecgd621"
    },
    {
      "cell_type": "code",
      "execution_count": null,
      "metadata": {
        "id": "3ulJ_K5Gd622"
      },
      "outputs": [],
      "source": [
        "squared_numbers = [n**2 for n in Our_list if n%2==1]"
      ],
      "id": "3ulJ_K5Gd622"
    },
    {
      "cell_type": "code",
      "execution_count": null,
      "metadata": {
        "id": "mXLTpqpid622",
        "outputId": "fb2b3485-768d-4cf5-a5c2-4165c834aeff"
      },
      "outputs": [
        {
          "name": "stdout",
          "output_type": "stream",
          "text": [
            "squared Numbers = [1, 9, 25, 49, 81]\n"
          ]
        }
      ],
      "source": [
        "print(\"squared Numbers =\", squared_numbers)"
      ],
      "id": "mXLTpqpid622"
    },
    {
      "cell_type": "markdown",
      "metadata": {
        "id": "VBxM2WEld623"
      },
      "source": [
        "**TASK #4**"
      ],
      "id": "VBxM2WEld623"
    },
    {
      "cell_type": "markdown",
      "metadata": {
        "id": "jzo1qvGqd623"
      },
      "source": [
        "**list comprehension**\n",
        "- which is a concise way to create lists in Python.\n",
        "- allows to generate lists based on existing iterables, such as lists, strings, or ranges, and apply transformations or filters to elements.\n",
        "\n",
        "Syntax:\n",
        "\n",
        "```python\n",
        "new_list = [expression for item in iterable if condition]\n",
        "```\n",
        "Where:\n",
        "   - _expression_: is the operation or transformation to apply to each item.\n",
        "   - _item_: is the variable representing each element in the iterable.\n",
        "   - _iterable_: is the existing iterable (e.g., list, string, range) that you're iterating over.\n",
        "   - _condition_: is an optional filter that determines whether or not to include the item in the new list.\n"
      ],
      "id": "jzo1qvGqd623"
    },
    {
      "cell_type": "code",
      "execution_count": null,
      "metadata": {
        "id": "vT69PubDd624"
      },
      "outputs": [],
      "source": [
        "# list from list\n",
        "L = [1, 2, 3, 4, 5]\n",
        "L1 = [x**2 for x in L]\n",
        "print(L1)"
      ],
      "id": "vT69PubDd624"
    },
    {
      "cell_type": "code",
      "execution_count": null,
      "metadata": {
        "id": "-17mdPyod624",
        "outputId": "dacc997b-9817-482a-c835-690b671efa82"
      },
      "outputs": [
        {
          "data": {
            "text/plain": [
              "[1, 3, 5]"
            ]
          },
          "execution_count": 48,
          "metadata": {},
          "output_type": "execute_result"
        }
      ],
      "source": [
        "# List from Range\n",
        "r =range(1,6,2) # 1,3,5\n",
        "L = list(r)\n",
        "L"
      ],
      "id": "-17mdPyod624"
    },
    {
      "cell_type": "code",
      "execution_count": null,
      "metadata": {
        "scrolled": true,
        "id": "P49wLNwud625",
        "outputId": "5f9d236f-9f9f-4a77-d50a-742945088b56"
      },
      "outputs": [
        {
          "name": "stdout",
          "output_type": "stream",
          "text": [
            "B\n",
            "a\n",
            "h\n",
            "i\n",
            "r\n",
            "u\n"
          ]
        }
      ],
      "source": [
        "myName = \"Bahiru\"\n",
        "for i in myName:\n",
        "    print (i)"
      ],
      "id": "P49wLNwud625"
    },
    {
      "cell_type": "code",
      "execution_count": null,
      "metadata": {
        "id": "uy-m789wd625",
        "outputId": "d3e8a195-d720-4bf0-bf86-437c2f1e4487"
      },
      "outputs": [
        {
          "name": "stdout",
          "output_type": "stream",
          "text": [
            "['Hello', 'Coders,', 'how', 'are', 'you?']\n",
            "['Py', 'th', 'on', '', '']\n"
          ]
        }
      ],
      "source": [
        "# List from a string (splitting by space)\n",
        "s1 = \"Hello Coders, how are you?\"\n",
        "s2 = s1.split()\n",
        "print(s2)\n",
        "# List from a string (substrings of fixed length)\n",
        "s3 = \"Python\"\n",
        "s4 = [s3[i:i+2] for i in range(0, 10, 2)]\n",
        "print(s4)"
      ],
      "id": "uy-m789wd625"
    },
    {
      "cell_type": "markdown",
      "metadata": {
        "id": "IoWWpZvQd626"
      },
      "source": [
        "**Task #5: Conditional Access**  \n",
        "1. Create a list containing names of fruits."
      ],
      "id": "IoWWpZvQd626"
    },
    {
      "cell_type": "code",
      "execution_count": null,
      "metadata": {
        "id": "zaP-Nuisd627"
      },
      "outputs": [],
      "source": [
        "Fruit_list = [\"Apple\", \"Blueberry\", \"Coconut\", \"Date\", \"Fig\", \"Plum\", \"Mango\", \"Watermelon\"]"
      ],
      "id": "zaP-Nuisd627"
    },
    {
      "cell_type": "markdown",
      "metadata": {
        "id": "G9MBFioKd627"
      },
      "source": [
        "2. Write a function that takes a fruit name as input and checks if it  \n",
        "exists in the list. If it does, print \"Fruit found\", otherwise print  \n",
        "\"Fruit not found\"."
      ],
      "id": "G9MBFioKd627"
    },
    {
      "cell_type": "code",
      "execution_count": null,
      "metadata": {
        "id": "RCNtr1Xad628"
      },
      "outputs": [],
      "source": [
        "def check_fruit(Fruit_Name):\n",
        "    if Fruit_Name in Fruit_list:\n",
        "        print(\"Fruit found.\")\n",
        "    else:\n",
        "        print(\"Fruit not found\")"
      ],
      "id": "RCNtr1Xad628"
    },
    {
      "cell_type": "markdown",
      "metadata": {
        "id": "QF98PMK3d629"
      },
      "source": [
        "3. Test the function with different fruit names."
      ],
      "id": "QF98PMK3d629"
    },
    {
      "cell_type": "code",
      "execution_count": null,
      "metadata": {
        "id": "1TwP_LWad62-",
        "outputId": "68684bc7-c121-4bc0-ac1c-8f2207e87af8"
      },
      "outputs": [
        {
          "name": "stdout",
          "output_type": "stream",
          "text": [
            "Fruit found.\n"
          ]
        }
      ],
      "source": [
        "check_fruit('Blueberry')"
      ],
      "id": "1TwP_LWad62-"
    },
    {
      "cell_type": "code",
      "execution_count": null,
      "metadata": {
        "id": "us5kzb09d62_"
      },
      "outputs": [],
      "source": [
        "check_fruit(\"Banana\")"
      ],
      "id": "us5kzb09d62_"
    },
    {
      "cell_type": "code",
      "execution_count": null,
      "metadata": {
        "id": "4Ddr1qBFd63A"
      },
      "outputs": [],
      "source": [
        "check_fruit(\"Fig\")"
      ],
      "id": "4Ddr1qBFd63A"
    },
    {
      "cell_type": "markdown",
      "metadata": {
        "id": "6yUDKF6kd63B"
      },
      "source": [
        "**TASK #5**"
      ],
      "id": "6yUDKF6kd63B"
    },
    {
      "cell_type": "code",
      "execution_count": null,
      "metadata": {
        "id": "Od5yd-eId63B"
      },
      "outputs": [],
      "source": [
        "# Create a tuple containing names of fruits.\n",
        "\n",
        "T = (\"orage\",\"banana\",\"Apple\")\n",
        "\n",
        "def f(i):\n",
        "    if i in T:\n",
        "        print (\"Found\")\n",
        "    else:\n",
        "        print (\"Not found\")\n",
        "\n",
        "# Create a dictionary containing names of fruits.\n",
        "\n",
        "D = {\"orange\":True,\"banana\":True,\"Apple\":True}\n",
        "def g(i):\n",
        "    if i in D:\n",
        "        print (\"Found\")\n",
        "    else:\n",
        "        print (\"Not found\")"
      ],
      "id": "Od5yd-eId63B"
    },
    {
      "cell_type": "code",
      "execution_count": null,
      "metadata": {
        "id": "94k8OlF1d63C",
        "outputId": "fce09880-e1e2-4f0d-bc26-5b7037fc54cf"
      },
      "outputs": [
        {
          "name": "stdout",
          "output_type": "stream",
          "text": [
            "Found\n"
          ]
        }
      ],
      "source": [
        "g(\"orange\")"
      ],
      "id": "94k8OlF1d63C"
    },
    {
      "cell_type": "code",
      "execution_count": null,
      "metadata": {
        "id": "OIxNTRqQd63D",
        "outputId": "b1be1d19-c406-4393-e054-ed07cc9b724e"
      },
      "outputs": [
        {
          "name": "stdout",
          "output_type": "stream",
          "text": [
            "Not found\n"
          ]
        }
      ],
      "source": [
        "f('Fig')"
      ],
      "id": "OIxNTRqQd63D"
    },
    {
      "cell_type": "code",
      "execution_count": null,
      "metadata": {
        "id": "Ueojzn3cd63D"
      },
      "outputs": [],
      "source": [],
      "id": "Ueojzn3cd63D"
    }
  ],
  "metadata": {
    "kernelspec": {
      "display_name": "Python 3",
      "language": "python",
      "name": "python3"
    },
    "language_info": {
      "codemirror_mode": {
        "name": "ipython",
        "version": 3
      },
      "file_extension": ".py",
      "mimetype": "text/x-python",
      "name": "python",
      "nbconvert_exporter": "python",
      "pygments_lexer": "ipython3",
      "version": "3.8.5"
    },
    "colab": {
      "provenance": []
    }
  },
  "nbformat": 4,
  "nbformat_minor": 5
}