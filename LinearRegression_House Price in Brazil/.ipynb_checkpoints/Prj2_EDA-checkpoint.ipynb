{
 "cells": [
  {
   "cell_type": "code",
   "execution_count": 15,
   "metadata": {},
   "outputs": [],
   "source": [
    "import numpy as np\n",
    "import pandas as pd\n",
    "import matplotlib.pyplot as plt\n",
    "import plotly.express as px\n",
    "import seaborn as sns\n",
    "from sklearn.linear_model import LinearRegression"
   ]
  },
  {
   "cell_type": "markdown",
   "metadata": {},
   "source": [
    "**EDA**"
   ]
  },
  {
   "cell_type": "markdown",
   "metadata": {},
   "source": [
    "After cleaning, the next step in many data science projects is exploratory data analysis (EDA), \n",
    "- where you get a feel for your data by summarizing its main characteristics using descriptive statistics and data visualization. \n",
    "- A good way to plan your EDA is by looking each column and asking yourself questions what it says about your dataset.\n",
    "\n",
    "Let us Import our clean Mexico Data;"
   ]
  },
  {
   "cell_type": "code",
   "execution_count": 9,
   "metadata": {},
   "outputs": [],
   "source": [
    "df = pd.read_csv(\"C:/Users/user/DSFolder/mx/mexicoData_clean.csv\")"
   ]
  },
  {
   "cell_type": "code",
   "execution_count": 17,
   "metadata": {
    "scrolled": false
   },
   "outputs": [
    {
     "name": "stdout",
     "output_type": "stream",
     "text": [
      "<class 'pandas.core.frame.DataFrame'>\n",
      "RangeIndex: 1736 entries, 0 to 1735\n",
      "Data columns (total 6 columns):\n",
      " #   Column         Non-Null Count  Dtype  \n",
      "---  ------         --------------  -----  \n",
      " 0   property_type  1736 non-null   object \n",
      " 1   state          1736 non-null   object \n",
      " 2   lat            1736 non-null   float64\n",
      " 3   lon            1736 non-null   float64\n",
      " 4   area_m2        1736 non-null   float64\n",
      " 5   price_usd      1736 non-null   float64\n",
      "dtypes: float64(4), object(2)\n",
      "memory usage: 81.5+ KB\n"
     ]
    }
   ],
   "source": [
    "df.info()"
   ]
  },
  {
   "cell_type": "code",
   "execution_count": 16,
   "metadata": {},
   "outputs": [],
   "source": [
    "df['area_m2'] = df['area_m2'].astype(float)"
   ]
  },
  {
   "cell_type": "markdown",
   "metadata": {},
   "source": [
    "- there are only two `dtypes` in our DataFrame (`object` and `float64`), \n",
    "- there are three categories of  data: `location`, `categorical`, and `numeric`. \n",
    "    - Each of these require a different kind of exploration in our analysis. "
   ]
  },
  {
   "cell_type": "markdown",
   "metadata": {},
   "source": [
    "### Location Data: `\"lat\"` and `\"lon\"`"
   ]
  },
  {
   "cell_type": "markdown",
   "metadata": {},
   "source": [
    "- It is known that the most important thing in real estate is location, \n",
    "- Since latitude and longitude are based on a coordinate system, a good way to visualize them is to create a scatter plot on top of a map. A great tool for this is the `scatter_mapbox`"
   ]
  },
  {
   "cell_type": "code",
   "execution_count": 18,
   "metadata": {},
   "outputs": [
    {
     "ename": "NameError",
     "evalue": "name 'px' is not defined",
     "output_type": "error",
     "traceback": [
      "\u001b[1;31m---------------------------------------------------------------------------\u001b[0m",
      "\u001b[1;31mNameError\u001b[0m                                 Traceback (most recent call last)",
      "\u001b[1;32m<ipython-input-18-885e453ac186>\u001b[0m in \u001b[0;36m<module>\u001b[1;34m\u001b[0m\n\u001b[1;32m----> 1\u001b[1;33m fig = px.scatter_mapbox(\n\u001b[0m\u001b[0;32m      2\u001b[0m     \u001b[0mdf\u001b[0m\u001b[1;33m,\u001b[0m  \u001b[1;31m# Our DataFrame\u001b[0m\u001b[1;33m\u001b[0m\u001b[1;33m\u001b[0m\u001b[0m\n\u001b[0;32m      3\u001b[0m     \u001b[0mlat\u001b[0m\u001b[1;33m=\u001b[0m\u001b[1;34m\"lat\"\u001b[0m\u001b[1;33m,\u001b[0m\u001b[1;33m\u001b[0m\u001b[1;33m\u001b[0m\u001b[0m\n\u001b[0;32m      4\u001b[0m     \u001b[0mlon\u001b[0m\u001b[1;33m=\u001b[0m\u001b[1;34m\"lon\"\u001b[0m\u001b[1;33m,\u001b[0m\u001b[1;33m\u001b[0m\u001b[1;33m\u001b[0m\u001b[0m\n\u001b[0;32m      5\u001b[0m     \u001b[0mcenter\u001b[0m\u001b[1;33m=\u001b[0m\u001b[1;33m{\u001b[0m\u001b[1;34m\"lat\"\u001b[0m\u001b[1;33m:\u001b[0m \u001b[1;36m19.43\u001b[0m\u001b[1;33m,\u001b[0m \u001b[1;34m\"lon\"\u001b[0m\u001b[1;33m:\u001b[0m \u001b[1;33m-\u001b[0m\u001b[1;36m99.13\u001b[0m\u001b[1;33m}\u001b[0m\u001b[1;33m,\u001b[0m  \u001b[1;31m# Map will be centered on Mexico City\u001b[0m\u001b[1;33m\u001b[0m\u001b[1;33m\u001b[0m\u001b[0m\n",
      "\u001b[1;31mNameError\u001b[0m: name 'px' is not defined"
     ]
    }
   ],
   "source": [
    "\n",
    "fig = px.scatter_mapbox(\n",
    "    df,  # Our DataFrame\n",
    "    lat=\"lat\",\n",
    "    lon=\"lon\",\n",
    "    center={\"lat\": 19.43, \"lon\": -99.13},  # Map will be centered on Mexico City\n",
    "    width=600,  # Width of map\n",
    "    height=600,  # Height of map\n",
    "    hover_data=[\"price_usd\"],  # Display price when hovering mouse over house\n",
    ")\n",
    "\n",
    "fig.update_layout(mapbox_style=\"open-street-map\")\n",
    "\n",
    "fig.show()"
   ]
  },
  {
   "cell_type": "markdown",
   "metadata": {},
   "source": [
    "Plotly's Python graphing library makes interactive, publication-quality graphs. Examples of how to make line plots, scatter plots, area charts, bar charts, error bars, box plots, histograms, heatmaps, subplots, multiple-axes, polar charts, and bubble charts.\n",
    "\n",
    "- C:\\Users\\user>pip install plotly==5.20.0         \n",
    "- python        \n",
    "- import plotly"
   ]
  },
  {
   "cell_type": "markdown",
   "metadata": {},
   "source": [
    "Looking at this map, \n",
    "- are the houses in our dataset distributed evenly throughout the country, or \n",
    "- are there states or regions that are more prevalent? \n",
    "- Can you guess where Mexico's biggest cities are based on this distribution?"
   ]
  },
  {
   "cell_type": "code",
   "execution_count": 19,
   "metadata": {},
   "outputs": [
    {
     "data": {
      "text/plain": [
       "0    Estado de México\n",
       "1          Nuevo León\n",
       "2            Guerrero\n",
       "3            Guerrero\n",
       "4             Yucatán\n",
       "Name: state, dtype: object"
      ]
     },
     "execution_count": 19,
     "metadata": {},
     "output_type": "execute_result"
    }
   ],
   "source": [
    "df[\"state\"].head()"
   ]
  },
  {
   "cell_type": "code",
   "execution_count": 20,
   "metadata": {},
   "outputs": [
    {
     "data": {
      "text/plain": [
       "30"
      ]
     },
     "execution_count": 20,
     "metadata": {},
     "output_type": "execute_result"
    }
   ],
   "source": [
    "df[\"state\"].nunique()"
   ]
  },
  {
   "cell_type": "code",
   "execution_count": 21,
   "metadata": {},
   "outputs": [
    {
     "data": {
      "text/plain": [
       "array(['Estado de México', 'Nuevo León', 'Guerrero', 'Yucatán',\n",
       "       'Querétaro', 'Morelos', 'Chiapas', 'Tabasco', 'Distrito Federal',\n",
       "       'Nayarit', 'Puebla', 'Veracruz de Ignacio de la Llave', 'Sinaloa',\n",
       "       'Tamaulipas', 'Jalisco', 'San Luis Potosí', 'Baja California',\n",
       "       'Hidalgo', 'Quintana Roo', 'Sonora', 'Chihuahua',\n",
       "       'Baja California Sur', 'Zacatecas', 'Aguascalientes', 'Guanajuato',\n",
       "       'Durango', 'Tlaxcala', 'Colima', 'Oaxaca', 'Campeche'],\n",
       "      dtype=object)"
      ]
     },
     "execution_count": 21,
     "metadata": {},
     "output_type": "execute_result"
    }
   ],
   "source": [
    "df[\"state\"].unique()"
   ]
  },
  {
   "cell_type": "markdown",
   "metadata": {},
   "source": [
    "Use the [`value_counts`](https://pandas.pydata.org/docs/reference/api/pandas.Series.value_counts.html) method on the `\"state\"` column to determine the 10 most prevalent states in our dataset."
   ]
  },
  {
   "cell_type": "code",
   "execution_count": 24,
   "metadata": {},
   "outputs": [
    {
     "data": {
      "text/plain": [
       "Distrito Federal                   303\n",
       "Estado de México                   179\n",
       "Yucatán                            171\n",
       "Morelos                            160\n",
       "Querétaro                          128\n",
       "Veracruz de Ignacio de la Llave    117\n",
       "Puebla                              95\n",
       "Nuevo León                          83\n",
       "Jalisco                             60\n",
       "Chiapas                             55\n",
       "San Luis Potosí                     55\n",
       "Guerrero                            49\n",
       "Tamaulipas                          48\n",
       "Quintana Roo                        38\n",
       "Baja California                     29\n",
       "Sinaloa                             26\n",
       "Tabasco                             20\n",
       "Chihuahua                           20\n",
       "Hidalgo                             17\n",
       "Baja California Sur                 15\n",
       "Guanajuato                          12\n",
       "Sonora                              12\n",
       "Aguascalientes                      10\n",
       "Nayarit                              9\n",
       "Durango                              7\n",
       "Tlaxcala                             6\n",
       "Colima                               5\n",
       "Campeche                             3\n",
       "Oaxaca                               2\n",
       "Zacatecas                            2\n",
       "Name: state, dtype: int64"
      ]
     },
     "execution_count": 24,
     "metadata": {},
     "output_type": "execute_result"
    }
   ],
   "source": [
    "df[\"state\"].value_counts()"
   ]
  },
  {
   "cell_type": "code",
   "execution_count": 25,
   "metadata": {},
   "outputs": [
    {
     "data": {
      "text/plain": [
       "Distrito Federal                   303\n",
       "Estado de México                   179\n",
       "Yucatán                            171\n",
       "Morelos                            160\n",
       "Querétaro                          128\n",
       "Veracruz de Ignacio de la Llave    117\n",
       "Puebla                              95\n",
       "Nuevo León                          83\n",
       "Jalisco                             60\n",
       "Chiapas                             55\n",
       "Name: state, dtype: int64"
      ]
     },
     "execution_count": 25,
     "metadata": {},
     "output_type": "execute_result"
    }
   ],
   "source": [
    "df[\"state\"].value_counts().head(10)"
   ]
  },
  {
   "cell_type": "markdown",
   "metadata": {},
   "source": [
    "### Numerical Data: `\"area_m2\"` and `\"price_usd\"`"
   ]
  },
  {
   "cell_type": "markdown",
   "metadata": {},
   "source": [
    "- Now, we have a sense for where the houses in our dataset are located, \n",
    "- but how much do they cost? How big are they? The best way to answer those questions is looking at descriptive statistics. "
   ]
  },
  {
   "cell_type": "markdown",
   "metadata": {},
   "source": [
    "**Task 1.3.4:** Use the [`describe`](https://pandas.pydata.org/pandas-docs/stable/reference/api/pandas.DataFrame.describe.html) method to print the mean, standard deviation, and quartiles for the `\"area_m2\"` and `\"price_usd\"` columns."
   ]
  },
  {
   "cell_type": "code",
   "execution_count": 26,
   "metadata": {},
   "outputs": [
    {
     "data": {
      "text/html": [
       "<div>\n",
       "<style scoped>\n",
       "    .dataframe tbody tr th:only-of-type {\n",
       "        vertical-align: middle;\n",
       "    }\n",
       "\n",
       "    .dataframe tbody tr th {\n",
       "        vertical-align: top;\n",
       "    }\n",
       "\n",
       "    .dataframe thead th {\n",
       "        text-align: right;\n",
       "    }\n",
       "</style>\n",
       "<table border=\"1\" class=\"dataframe\">\n",
       "  <thead>\n",
       "    <tr style=\"text-align: right;\">\n",
       "      <th></th>\n",
       "      <th>lat</th>\n",
       "      <th>lon</th>\n",
       "      <th>area_m2</th>\n",
       "      <th>price_usd</th>\n",
       "    </tr>\n",
       "  </thead>\n",
       "  <tbody>\n",
       "    <tr>\n",
       "      <th>count</th>\n",
       "      <td>1736.000000</td>\n",
       "      <td>1736.000000</td>\n",
       "      <td>1736.000000</td>\n",
       "      <td>1736.000000</td>\n",
       "    </tr>\n",
       "    <tr>\n",
       "      <th>mean</th>\n",
       "      <td>20.765410</td>\n",
       "      <td>-98.798575</td>\n",
       "      <td>170.261521</td>\n",
       "      <td>120447.312517</td>\n",
       "    </tr>\n",
       "    <tr>\n",
       "      <th>std</th>\n",
       "      <td>2.743425</td>\n",
       "      <td>4.882553</td>\n",
       "      <td>80.594539</td>\n",
       "      <td>68753.901626</td>\n",
       "    </tr>\n",
       "    <tr>\n",
       "      <th>min</th>\n",
       "      <td>15.752900</td>\n",
       "      <td>-117.054763</td>\n",
       "      <td>60.000000</td>\n",
       "      <td>33192.480000</td>\n",
       "    </tr>\n",
       "    <tr>\n",
       "      <th>25%</th>\n",
       "      <td>19.275200</td>\n",
       "      <td>-100.392553</td>\n",
       "      <td>101.750000</td>\n",
       "      <td>67438.690000</td>\n",
       "    </tr>\n",
       "    <tr>\n",
       "      <th>50%</th>\n",
       "      <td>19.620518</td>\n",
       "      <td>-99.204001</td>\n",
       "      <td>156.000000</td>\n",
       "      <td>104319.230000</td>\n",
       "    </tr>\n",
       "    <tr>\n",
       "      <th>75%</th>\n",
       "      <td>21.073428</td>\n",
       "      <td>-98.245911</td>\n",
       "      <td>220.000000</td>\n",
       "      <td>157747.277500</td>\n",
       "    </tr>\n",
       "    <tr>\n",
       "      <th>max</th>\n",
       "      <td>32.665619</td>\n",
       "      <td>-86.767539</td>\n",
       "      <td>385.000000</td>\n",
       "      <td>364396.650000</td>\n",
       "    </tr>\n",
       "  </tbody>\n",
       "</table>\n",
       "</div>"
      ],
      "text/plain": [
       "               lat          lon      area_m2      price_usd\n",
       "count  1736.000000  1736.000000  1736.000000    1736.000000\n",
       "mean     20.765410   -98.798575   170.261521  120447.312517\n",
       "std       2.743425     4.882553    80.594539   68753.901626\n",
       "min      15.752900  -117.054763    60.000000   33192.480000\n",
       "25%      19.275200  -100.392553   101.750000   67438.690000\n",
       "50%      19.620518   -99.204001   156.000000  104319.230000\n",
       "75%      21.073428   -98.245911   220.000000  157747.277500\n",
       "max      32.665619   -86.767539   385.000000  364396.650000"
      ]
     },
     "execution_count": 26,
     "metadata": {},
     "output_type": "execute_result"
    }
   ],
   "source": [
    "df.describe()"
   ]
  },
  {
   "cell_type": "code",
   "execution_count": 27,
   "metadata": {
    "scrolled": true
   },
   "outputs": [
    {
     "data": {
      "text/html": [
       "<div>\n",
       "<style scoped>\n",
       "    .dataframe tbody tr th:only-of-type {\n",
       "        vertical-align: middle;\n",
       "    }\n",
       "\n",
       "    .dataframe tbody tr th {\n",
       "        vertical-align: top;\n",
       "    }\n",
       "\n",
       "    .dataframe thead th {\n",
       "        text-align: right;\n",
       "    }\n",
       "</style>\n",
       "<table border=\"1\" class=\"dataframe\">\n",
       "  <thead>\n",
       "    <tr style=\"text-align: right;\">\n",
       "      <th></th>\n",
       "      <th>area_m2</th>\n",
       "      <th>price_usd</th>\n",
       "    </tr>\n",
       "  </thead>\n",
       "  <tbody>\n",
       "    <tr>\n",
       "      <th>count</th>\n",
       "      <td>1736.000000</td>\n",
       "      <td>1736.000000</td>\n",
       "    </tr>\n",
       "    <tr>\n",
       "      <th>mean</th>\n",
       "      <td>170.261521</td>\n",
       "      <td>120447.312517</td>\n",
       "    </tr>\n",
       "    <tr>\n",
       "      <th>std</th>\n",
       "      <td>80.594539</td>\n",
       "      <td>68753.901626</td>\n",
       "    </tr>\n",
       "    <tr>\n",
       "      <th>min</th>\n",
       "      <td>60.000000</td>\n",
       "      <td>33192.480000</td>\n",
       "    </tr>\n",
       "    <tr>\n",
       "      <th>25%</th>\n",
       "      <td>101.750000</td>\n",
       "      <td>67438.690000</td>\n",
       "    </tr>\n",
       "    <tr>\n",
       "      <th>50%</th>\n",
       "      <td>156.000000</td>\n",
       "      <td>104319.230000</td>\n",
       "    </tr>\n",
       "    <tr>\n",
       "      <th>75%</th>\n",
       "      <td>220.000000</td>\n",
       "      <td>157747.277500</td>\n",
       "    </tr>\n",
       "    <tr>\n",
       "      <th>max</th>\n",
       "      <td>385.000000</td>\n",
       "      <td>364396.650000</td>\n",
       "    </tr>\n",
       "  </tbody>\n",
       "</table>\n",
       "</div>"
      ],
      "text/plain": [
       "           area_m2      price_usd\n",
       "count  1736.000000    1736.000000\n",
       "mean    170.261521  120447.312517\n",
       "std      80.594539   68753.901626\n",
       "min      60.000000   33192.480000\n",
       "25%     101.750000   67438.690000\n",
       "50%     156.000000  104319.230000\n",
       "75%     220.000000  157747.277500\n",
       "max     385.000000  364396.650000"
      ]
     },
     "execution_count": 27,
     "metadata": {},
     "output_type": "execute_result"
    }
   ],
   "source": [
    "df[[\"area_m2\",\"price_usd\"]].describe()"
   ]
  },
  {
   "cell_type": "code",
   "execution_count": 30,
   "metadata": {},
   "outputs": [
    {
     "data": {
      "text/plain": [
       "0.3    111.0\n",
       "Name: area_m2, dtype: float64"
      ]
     },
     "execution_count": 30,
     "metadata": {},
     "output_type": "execute_result"
    }
   ],
   "source": [
    "df['area_m2'].quantile([0.3])"
   ]
  },
  {
   "cell_type": "markdown",
   "metadata": {},
   "source": [
    "**looking at `\"area_m2\"`**\n",
    "- It's interesting that the mean is larger than the median (another name for the 50% quartile). Both of these statistics are supposed to give an idea of the \"typical\" value for the column, so why is there a difference of almost 14 m2 between them? \n",
    "- To answer this question, we need to see how house sizes are distributed in our dataset. \n",
    "- Let's look at two ways to visualize the distribution: a histogram and a boxplot."
   ]
  },
  {
   "cell_type": "markdown",
   "metadata": {},
   "source": [
    "Create a histogram of `\"area_m2\"`."
   ]
  },
  {
   "cell_type": "code",
   "execution_count": 18,
   "metadata": {},
   "outputs": [
    {
     "data": {
      "image/png": "[encoded data removed]",
      "text/plain": [
       "<Figure size 432x288 with 1 Axes>"
      ]
     },
     "metadata": {
      "needs_background": "light"
     },
     "output_type": "display_data"
    }
   ],
   "source": [
    "plt.hist(df[\"area_m2\"])\n",
    "plt.xlabel(\"Area[Sq meters]\")\n",
    "plt.ylabel(\"Frequency\")\n",
    "plt.title(\"Distribution of Home Size\");"
   ]
  },
  {
   "cell_type": "markdown",
   "metadata": {},
   "source": [
    "we can see that `\"area_m2\"` skews left. \n",
    "- In other words, there are more houses at the lower end of the distribution (50–200m<sup>2</sup>) than at the higher end (250–400m<sup>2</sup>). \n",
    "- That explains the difference between the mean and the median."
   ]
  },
  {
   "cell_type": "markdown",
   "metadata": {},
   "source": [
    " Create a horizontal boxplot of `\"area_m2\"`."
   ]
  },
  {
   "cell_type": "code",
   "execution_count": 31,
   "metadata": {},
   "outputs": [
    {
     "data": {
      "image/png": "[encoded data removed]",
      "text/plain": [
       "<Figure size 432x288 with 1 Axes>"
      ]
     },
     "metadata": {
      "needs_background": "light"
     },
     "output_type": "display_data"
    }
   ],
   "source": [
    "plt.boxplot(df[\"area_m2\"],vert=False)\n",
    "plt.xlabel(\"Area[Sq meters]\")\n",
    "plt.title(\"Distribution of Home Size\");"
   ]
  },
  {
   "cell_type": "markdown",
   "metadata": {},
   "source": [
    "**looking at `\"price_usd\"`** "
   ]
  },
  {
   "cell_type": "markdown",
   "metadata": {},
   "source": [
    "Does `\"price_usd\"` have the same distribution as `\"price_per_m2\"`? Let's use the same two visualization tools to find out."
   ]
  },
  {
   "cell_type": "markdown",
   "metadata": {},
   "source": [
    "Create a histogram of `\"price_usd\"`."
   ]
  },
  {
   "cell_type": "code",
   "execution_count": 20,
   "metadata": {},
   "outputs": [
    {
     "data": {
      "image/png": "[encoded data removed]",
      "text/plain": [
       "<Figure size 432x288 with 1 Axes>"
      ]
     },
     "metadata": {
      "needs_background": "light"
     },
     "output_type": "display_data"
    }
   ],
   "source": [
    "plt.hist(df[\"price_usd\"])\n",
    "plt.xlabel(\"Price[USD]\")\n",
    "plt.ylabel(\"Frequency\")\n",
    "plt.title(\"Distribution of Home Prices\");"
   ]
  },
  {
   "cell_type": "markdown",
   "metadata": {},
   "source": [
    "Looks like `\"price_usd\"` is even more skewed than `\"area_m2\"`. What does this bigger skew look like in a boxplot?"
   ]
  },
  {
   "cell_type": "markdown",
   "metadata": {},
   "source": [
    "Create a horizontal boxplot of `\"price_usd\"`. "
   ]
  },
  {
   "cell_type": "code",
   "execution_count": 21,
   "metadata": {},
   "outputs": [
    {
     "data": {
      "image/png": "[encoded data removed]",
      "text/plain": [
       "<Figure size 432x288 with 1 Axes>"
      ]
     },
     "metadata": {
      "needs_background": "light"
     },
     "output_type": "display_data"
    }
   ],
   "source": [
    "plt.boxplot(df[\"price_usd\"],vert=False)\n",
    "plt.xlabel(\"Price[USD]\")\n",
    "plt.title(\"Distribution of Home Prices\");"
   ]
  },
  {
   "cell_type": "markdown",
   "metadata": {},
   "source": [
    "- Now that you have a sense of for the dataset, \n",
    "- Next, start answering some research questions about the relationship between house size, price, and location."
   ]
  },
  {
   "cell_type": "markdown",
   "metadata": {},
   "source": [
    "[Basic Statistics Reference](https://www.scribbr.com/statistics/)"
   ]
  }
 ],
 "metadata": {
  "kernelspec": {
   "display_name": "Python 3",
   "language": "python",
   "name": "python3"
  },
  "language_info": {
   "codemirror_mode": {
    "name": "ipython",
    "version": 3
   },
   "file_extension": ".py",
   "mimetype": "text/x-python",
   "name": "python",
   "nbconvert_exporter": "python",
   "pygments_lexer": "ipython3",
   "version": "3.8.5"
  }
 },
 "nbformat": 4,
 "nbformat_minor": 4
}
