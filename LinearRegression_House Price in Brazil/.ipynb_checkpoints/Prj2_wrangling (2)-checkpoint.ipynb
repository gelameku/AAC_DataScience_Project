{
 "cells": [
  {
   "cell_type": "code",
   "execution_count": 1,
   "metadata": {},
   "outputs": [],
   "source": [
    "import numpy as np\n",
    "import pandas as pd"
   ]
  },
  {
   "cell_type": "markdown",
   "metadata": {},
   "source": [
    "### Project1 - Housing In Mexico\n",
    "\n",
    "Here, we'll learn:\n",
    "\n",
    "- How to organize information using basic Python data structures.\n",
    "- How to import data from CSV files and clean it using the pandas library.\n",
    "- How to create data visualizations like scatter and box plots.\n",
    "- How to examine the relationship between two variables using correlation."
   ]
  },
  {
   "cell_type": "markdown",
   "metadata": {},
   "source": [
    "**Problem / Question:**\n",
    "- Which factor, location or size, exerts a greater influence on house prices in Mexico?"
   ]
  },
  {
   "cell_type": "markdown",
   "metadata": {},
   "source": [
    "**Data Collection:**\n",
    "\n",
    "In this project, we'll work with mexico-real-esate datasets \n",
    "- Data Source: open data\n",
    "- Data type: csv (#3)"
   ]
  },
  {
   "cell_type": "markdown",
   "metadata": {},
   "source": [
    "**Wrangling / Preprocessing:**"
   ]
  },
  {
   "cell_type": "markdown",
   "metadata": {},
   "source": [
    "**EDA:**"
   ]
  },
  {
   "cell_type": "markdown",
   "metadata": {},
   "source": [
    "### Data Wrangling (Munging)"
   ]
  },
  {
   "cell_type": "markdown",
   "metadata": {},
   "source": [
    "- The first part of any data science project is preparing your data, which means making sure its in the right place and format for you to conduct your analysis."
   ]
  },
  {
   "cell_type": "markdown",
   "metadata": {},
   "source": [
    "**1.1   Import**\n",
    "-  The first step of any data preparation is importing your raw data and cleaning it. "
   ]
  },
  {
   "cell_type": "code",
   "execution_count": 2,
   "metadata": {},
   "outputs": [],
   "source": [
    "df1 = pd.read_csv(\"C:/Users/CASH/Desktop/AAC_SCHOOL/Data Science/Project/MX/mexico-real-estate-1.csv\")\n",
    "df2 = pd.read_csv(\"C:/Users/CASH/Desktop/AAC_SCHOOL/Data Science/Project/MX/mexico-real-estate-2.csv\")\n",
    "df3 = pd.read_csv(\"C:/Users/CASH/Desktop/AAC_SCHOOL/Data Science/Project/MX/mexico-real-estate-3.csv\")"
   ]
  },
  {
   "cell_type": "markdown",
   "metadata": {},
   "source": [
    "Inspect each DataFrames: \n",
    "- By looking at its `shape` attribute. \n",
    "- Then use the `info` method to see the data types and number of missing values for each column. \n",
    "- Finally, use the `head` method to determine to look at the first five rows of your dataset."
   ]
  },
  {
   "cell_type": "code",
   "execution_count": 5,
   "metadata": {},
   "outputs": [
    {
     "data": {
      "text/plain": [
       "(700, 7)"
      ]
     },
     "execution_count": 5,
     "metadata": {},
     "output_type": "execute_result"
    }
   ],
   "source": [
    "df1.shape"
   ]
  },
  {
   "cell_type": "markdown",
   "metadata": {},
   "source": [
    "**1.2 Data Cleaning**"
   ]
  },
  {
   "cell_type": "markdown",
   "metadata": {},
   "source": [
    "**Clean df1:**"
   ]
  },
  {
   "cell_type": "code",
   "execution_count": 3,
   "metadata": {},
   "outputs": [
    {
     "name": "stdout",
     "output_type": "stream",
     "text": [
      "<class 'pandas.core.frame.DataFrame'>\n",
      "RangeIndex: 700 entries, 0 to 699\n",
      "Data columns (total 7 columns):\n",
      " #   Column         Non-Null Count  Dtype  \n",
      "---  ------         --------------  -----  \n",
      " 0   Unnamed: 0     700 non-null    int64  \n",
      " 1   property_type  700 non-null    object \n",
      " 2   state          700 non-null    object \n",
      " 3   lat            583 non-null    float64\n",
      " 4   lon            583 non-null    float64\n",
      " 5   area_m2        700 non-null    int64  \n",
      " 6   price_usd      700 non-null    object \n",
      "dtypes: float64(2), int64(2), object(3)\n",
      "memory usage: 38.4+ KB\n"
     ]
    }
   ],
   "source": [
    "df1.info()"
   ]
  },
  {
   "cell_type": "code",
   "execution_count": 6,
   "metadata": {},
   "outputs": [
    {
     "data": {
      "text/html": [
       "<div>\n",
       "<style scoped>\n",
       "    .dataframe tbody tr th:only-of-type {\n",
       "        vertical-align: middle;\n",
       "    }\n",
       "\n",
       "    .dataframe tbody tr th {\n",
       "        vertical-align: top;\n",
       "    }\n",
       "\n",
       "    .dataframe thead th {\n",
       "        text-align: right;\n",
       "    }\n",
       "</style>\n",
       "<table border=\"1\" class=\"dataframe\">\n",
       "  <thead>\n",
       "    <tr style=\"text-align: right;\">\n",
       "      <th></th>\n",
       "      <th>Unnamed: 0</th>\n",
       "      <th>property_type</th>\n",
       "      <th>state</th>\n",
       "      <th>lat</th>\n",
       "      <th>lon</th>\n",
       "      <th>area_m2</th>\n",
       "      <th>price_usd</th>\n",
       "    </tr>\n",
       "  </thead>\n",
       "  <tbody>\n",
       "    <tr>\n",
       "      <th>0</th>\n",
       "      <td>1</td>\n",
       "      <td>house</td>\n",
       "      <td>Estado de México</td>\n",
       "      <td>19.560181</td>\n",
       "      <td>-99.233528</td>\n",
       "      <td>150</td>\n",
       "      <td>$67,965.56</td>\n",
       "    </tr>\n",
       "    <tr>\n",
       "      <th>1</th>\n",
       "      <td>2</td>\n",
       "      <td>house</td>\n",
       "      <td>Nuevo León</td>\n",
       "      <td>25.688436</td>\n",
       "      <td>-100.198807</td>\n",
       "      <td>186</td>\n",
       "      <td>$63,223.78</td>\n",
       "    </tr>\n",
       "    <tr>\n",
       "      <th>2</th>\n",
       "      <td>3</td>\n",
       "      <td>apartment</td>\n",
       "      <td>Guerrero</td>\n",
       "      <td>16.767704</td>\n",
       "      <td>-99.764383</td>\n",
       "      <td>82</td>\n",
       "      <td>$84,298.37</td>\n",
       "    </tr>\n",
       "    <tr>\n",
       "      <th>3</th>\n",
       "      <td>4</td>\n",
       "      <td>apartment</td>\n",
       "      <td>Guerrero</td>\n",
       "      <td>16.829782</td>\n",
       "      <td>-99.911012</td>\n",
       "      <td>150</td>\n",
       "      <td>$94,308.80</td>\n",
       "    </tr>\n",
       "    <tr>\n",
       "      <th>4</th>\n",
       "      <td>5</td>\n",
       "      <td>house</td>\n",
       "      <td>Veracruz de Ignacio de la Llave</td>\n",
       "      <td>NaN</td>\n",
       "      <td>NaN</td>\n",
       "      <td>175</td>\n",
       "      <td>$94,835.67</td>\n",
       "    </tr>\n",
       "  </tbody>\n",
       "</table>\n",
       "</div>"
      ],
      "text/plain": [
       "   Unnamed: 0 property_type                            state        lat  \\\n",
       "0           1         house                 Estado de México  19.560181   \n",
       "1           2         house                       Nuevo León  25.688436   \n",
       "2           3     apartment                         Guerrero  16.767704   \n",
       "3           4     apartment                         Guerrero  16.829782   \n",
       "4           5         house  Veracruz de Ignacio de la Llave        NaN   \n",
       "\n",
       "          lon  area_m2   price_usd  \n",
       "0  -99.233528      150  $67,965.56  \n",
       "1 -100.198807      186  $63,223.78  \n",
       "2  -99.764383       82  $84,298.37  \n",
       "3  -99.911012      150  $94,308.80  \n",
       "4         NaN      175  $94,835.67  "
      ]
     },
     "execution_count": 6,
     "metadata": {},
     "output_type": "execute_result"
    }
   ],
   "source": [
    "df1.head()"
   ]
  },
  {
   "cell_type": "markdown",
   "metadata": {},
   "source": [
    "Here, we can observe that:\n",
    "- There are many missed rows (NAN) in `lan` and `lon` columns\n",
    "- The column `Unamed:0` should be dropped\n",
    "- The data type for the `\"price_usd\"` column is `object` when it should be `float`. (this is because of `'$'` and `','`)"
   ]
  },
  {
   "cell_type": "code",
   "execution_count": 7,
   "metadata": {},
   "outputs": [],
   "source": [
    "# Removing NaN value in the exsiting data frame, not new\n",
    "df1.dropna(inplace=True)\n",
    "# Drop the first column\n",
    "df1.drop(columns=[\"Unnamed: 0\"],inplace=True)\n",
    "\n",
    "# Transorm price from object to float\n",
    "df1[\"price_usd\"]=(\n",
    "    df1[\"price_usd\"]\n",
    "    .str.replace(\"$\",\"\",regex=False)\n",
    "    .str.replace(\",\",\"\")\n",
    "    .astype(float)\n",
    ")"
   ]
  },
  {
   "cell_type": "code",
   "execution_count": 8,
   "metadata": {},
   "outputs": [
    {
     "name": "stdout",
     "output_type": "stream",
     "text": [
      "<class 'pandas.core.frame.DataFrame'>\n",
      "Index: 583 entries, 0 to 699\n",
      "Data columns (total 6 columns):\n",
      " #   Column         Non-Null Count  Dtype  \n",
      "---  ------         --------------  -----  \n",
      " 0   property_type  583 non-null    object \n",
      " 1   state          583 non-null    object \n",
      " 2   lat            583 non-null    float64\n",
      " 3   lon            583 non-null    float64\n",
      " 4   area_m2        583 non-null    int64  \n",
      " 5   price_usd      583 non-null    float64\n",
      "dtypes: float64(3), int64(1), object(2)\n",
      "memory usage: 31.9+ KB\n"
     ]
    }
   ],
   "source": [
    "df1.info()"
   ]
  },
  {
   "cell_type": "markdown",
   "metadata": {},
   "source": [
    "NB:\n",
    "- `replace(source, replacement, count)`- is a method associated with strings that allows you to replace occurrences of a substring (source) with another substring (replacement). Optionally, you can specify the maximum number of replacements to make with the count parameter (default is all occurrences).\n",
    "- regex=False: This is an optional argument for the replace() method. It specifies whether to treat the source string as a literal string (False) or a regular expression (True). Here, regex=False indicates we're dealing with a plain string, not a pattern.\n",
    "\n"
   ]
  },
  {
   "cell_type": "code",
   "execution_count": null,
   "metadata": {},
   "outputs": [],
   "source": [
    "original_string = \"This string has $10 and $20.\"\n",
    "modified_string = original_string.replace(\"$\", \"\")\n",
    "print(modified_string)  # Output: This string has 10 and 20."
   ]
  },
  {
   "cell_type": "markdown",
   "metadata": {},
   "source": [
    "**Clean df2:**"
   ]
  },
  {
   "cell_type": "code",
   "execution_count": 9,
   "metadata": {
    "jp-MarkdownHeadingCollapsed": true
   },
   "outputs": [
    {
     "name": "stdout",
     "output_type": "stream",
     "text": [
      "<class 'pandas.core.frame.DataFrame'>\n",
      "RangeIndex: 700 entries, 0 to 699\n",
      "Data columns (total 7 columns):\n",
      " #   Column         Non-Null Count  Dtype  \n",
      "---  ------         --------------  -----  \n",
      " 0   Unnamed: 0     700 non-null    int64  \n",
      " 1   property_type  700 non-null    object \n",
      " 2   state          700 non-null    object \n",
      " 3   lat            571 non-null    float64\n",
      " 4   lon            571 non-null    float64\n",
      " 5   area_m2        700 non-null    int64  \n",
      " 6   price_mxn      700 non-null    int64  \n",
      "dtypes: float64(2), int64(3), object(2)\n",
      "memory usage: 38.4+ KB\n"
     ]
    }
   ],
   "source": [
    "df2.info()"
   ]
  },
  {
   "cell_type": "markdown",
   "metadata": {},
   "source": [
    "Here, we can notice:\n",
    "- There are many null values (NAN) in `lan` and `lon` columns\n",
    "- The column `Unamed:0` should be dropped\n",
    "- The data type for the `\"price_mxn\"` column is `int64`. (but should be in US dollar `\"price_usd\"`)\n",
    "    - If we want to compare all the home prices in this dataset, they all need to be in the same currency.\n",
    "- Drop `\"price_mxn\"` column"
   ]
  },
  {
   "cell_type": "code",
   "execution_count": 10,
   "metadata": {},
   "outputs": [
    {
     "data": {
      "text/html": [
       "<div>\n",
       "<style scoped>\n",
       "    .dataframe tbody tr th:only-of-type {\n",
       "        vertical-align: middle;\n",
       "    }\n",
       "\n",
       "    .dataframe tbody tr th {\n",
       "        vertical-align: top;\n",
       "    }\n",
       "\n",
       "    .dataframe thead th {\n",
       "        text-align: right;\n",
       "    }\n",
       "</style>\n",
       "<table border=\"1\" class=\"dataframe\">\n",
       "  <thead>\n",
       "    <tr style=\"text-align: right;\">\n",
       "      <th></th>\n",
       "      <th>property_type</th>\n",
       "      <th>state</th>\n",
       "      <th>lat</th>\n",
       "      <th>lon</th>\n",
       "      <th>area_m2</th>\n",
       "      <th>price_usd</th>\n",
       "    </tr>\n",
       "  </thead>\n",
       "  <tbody>\n",
       "    <tr>\n",
       "      <th>0</th>\n",
       "      <td>apartment</td>\n",
       "      <td>Nuevo León</td>\n",
       "      <td>25.721081</td>\n",
       "      <td>-100.345581</td>\n",
       "      <td>72</td>\n",
       "      <td>77937.65</td>\n",
       "    </tr>\n",
       "    <tr>\n",
       "      <th>2</th>\n",
       "      <td>house</td>\n",
       "      <td>Morelos</td>\n",
       "      <td>23.634501</td>\n",
       "      <td>-102.552788</td>\n",
       "      <td>360</td>\n",
       "      <td>317745.80</td>\n",
       "    </tr>\n",
       "    <tr>\n",
       "      <th>6</th>\n",
       "      <td>apartment</td>\n",
       "      <td>Estado de México</td>\n",
       "      <td>19.272040</td>\n",
       "      <td>-99.572013</td>\n",
       "      <td>85</td>\n",
       "      <td>74940.05</td>\n",
       "    </tr>\n",
       "    <tr>\n",
       "      <th>7</th>\n",
       "      <td>house</td>\n",
       "      <td>San Luis Potosí</td>\n",
       "      <td>22.138882</td>\n",
       "      <td>-100.996510</td>\n",
       "      <td>158</td>\n",
       "      <td>127098.32</td>\n",
       "    </tr>\n",
       "    <tr>\n",
       "      <th>8</th>\n",
       "      <td>apartment</td>\n",
       "      <td>Distrito Federal</td>\n",
       "      <td>19.394558</td>\n",
       "      <td>-99.129707</td>\n",
       "      <td>65</td>\n",
       "      <td>45455.04</td>\n",
       "    </tr>\n",
       "  </tbody>\n",
       "</table>\n",
       "</div>"
      ],
      "text/plain": [
       "  property_type             state        lat         lon  area_m2  price_usd\n",
       "0     apartment        Nuevo León  25.721081 -100.345581       72   77937.65\n",
       "2         house           Morelos  23.634501 -102.552788      360  317745.80\n",
       "6     apartment  Estado de México  19.272040  -99.572013       85   74940.05\n",
       "7         house   San Luis Potosí  22.138882 -100.996510      158  127098.32\n",
       "8     apartment  Distrito Federal  19.394558  -99.129707       65   45455.04"
      ]
     },
     "execution_count": 10,
     "metadata": {},
     "output_type": "execute_result"
    }
   ],
   "source": [
    "df2.dropna(inplace=True)\n",
    "df2.drop(columns=[\"Unnamed: 0\"],inplace=True)\n",
    "\n",
    "# Create price_usd column dividing by 16.74\n",
    "df2[\"price_usd\"]=(df2[\"price_mxn\"]/16.68).round(2)\n",
    "df2.drop(columns=[\"price_mxn\"],inplace=True)\n",
    "df2.head()"
   ]
  },
  {
   "cell_type": "code",
   "execution_count": 11,
   "metadata": {},
   "outputs": [
    {
     "name": "stdout",
     "output_type": "stream",
     "text": [
      "<class 'pandas.core.frame.DataFrame'>\n",
      "Index: 571 entries, 0 to 699\n",
      "Data columns (total 6 columns):\n",
      " #   Column         Non-Null Count  Dtype  \n",
      "---  ------         --------------  -----  \n",
      " 0   property_type  571 non-null    object \n",
      " 1   state          571 non-null    object \n",
      " 2   lat            571 non-null    float64\n",
      " 3   lon            571 non-null    float64\n",
      " 4   area_m2        571 non-null    int64  \n",
      " 5   price_usd      571 non-null    float64\n",
      "dtypes: float64(3), int64(1), object(2)\n",
      "memory usage: 31.2+ KB\n"
     ]
    }
   ],
   "source": [
    "df2.info()"
   ]
  },
  {
   "cell_type": "markdown",
   "metadata": {},
   "source": [
    "**Cean df3:**"
   ]
  },
  {
   "cell_type": "code",
   "execution_count": 12,
   "metadata": {
    "scrolled": true
   },
   "outputs": [
    {
     "name": "stdout",
     "output_type": "stream",
     "text": [
      "<class 'pandas.core.frame.DataFrame'>\n",
      "RangeIndex: 700 entries, 0 to 699\n",
      "Data columns (total 6 columns):\n",
      " #   Column                   Non-Null Count  Dtype  \n",
      "---  ------                   --------------  -----  \n",
      " 0   Unnamed: 0               700 non-null    int64  \n",
      " 1   property_type            700 non-null    object \n",
      " 2   place_with_parent_names  700 non-null    object \n",
      " 3   lat-lon                  582 non-null    object \n",
      " 4   area_m2                  700 non-null    int64  \n",
      " 5   price_usd                700 non-null    float64\n",
      "dtypes: float64(1), int64(2), object(3)\n",
      "memory usage: 32.9+ KB\n"
     ]
    }
   ],
   "source": [
    "df3.info()"
   ]
  },
  {
   "cell_type": "code",
   "execution_count": 13,
   "metadata": {},
   "outputs": [
    {
     "data": {
      "text/html": [
       "<div>\n",
       "<style scoped>\n",
       "    .dataframe tbody tr th:only-of-type {\n",
       "        vertical-align: middle;\n",
       "    }\n",
       "\n",
       "    .dataframe tbody tr th {\n",
       "        vertical-align: top;\n",
       "    }\n",
       "\n",
       "    .dataframe thead th {\n",
       "        text-align: right;\n",
       "    }\n",
       "</style>\n",
       "<table border=\"1\" class=\"dataframe\">\n",
       "  <thead>\n",
       "    <tr style=\"text-align: right;\">\n",
       "      <th></th>\n",
       "      <th>Unnamed: 0</th>\n",
       "      <th>property_type</th>\n",
       "      <th>place_with_parent_names</th>\n",
       "      <th>lat-lon</th>\n",
       "      <th>area_m2</th>\n",
       "      <th>price_usd</th>\n",
       "    </tr>\n",
       "  </thead>\n",
       "  <tbody>\n",
       "    <tr>\n",
       "      <th>0</th>\n",
       "      <td>1</td>\n",
       "      <td>apartment</td>\n",
       "      <td>|México|Distrito Federal|Gustavo A. Madero|Acu...</td>\n",
       "      <td>19.52589,-99.151703</td>\n",
       "      <td>71</td>\n",
       "      <td>48550.59</td>\n",
       "    </tr>\n",
       "    <tr>\n",
       "      <th>1</th>\n",
       "      <td>2</td>\n",
       "      <td>house</td>\n",
       "      <td>|México|Estado de México|Toluca|Metepec|</td>\n",
       "      <td>19.2640539,-99.5727534</td>\n",
       "      <td>233</td>\n",
       "      <td>168636.73</td>\n",
       "    </tr>\n",
       "    <tr>\n",
       "      <th>2</th>\n",
       "      <td>3</td>\n",
       "      <td>house</td>\n",
       "      <td>|México|Estado de México|Toluca|Toluca de Lerd...</td>\n",
       "      <td>19.268629,-99.671722</td>\n",
       "      <td>300</td>\n",
       "      <td>86932.69</td>\n",
       "    </tr>\n",
       "    <tr>\n",
       "      <th>3</th>\n",
       "      <td>4</td>\n",
       "      <td>house</td>\n",
       "      <td>|México|Morelos|Temixco|Burgos Bugambilias|</td>\n",
       "      <td>NaN</td>\n",
       "      <td>275</td>\n",
       "      <td>263432.41</td>\n",
       "    </tr>\n",
       "    <tr>\n",
       "      <th>4</th>\n",
       "      <td>5</td>\n",
       "      <td>apartment</td>\n",
       "      <td>|México|Veracruz de Ignacio de la Llave|Veracruz|</td>\n",
       "      <td>19.511938,-96.871956</td>\n",
       "      <td>84</td>\n",
       "      <td>68508.67</td>\n",
       "    </tr>\n",
       "  </tbody>\n",
       "</table>\n",
       "</div>"
      ],
      "text/plain": [
       "   Unnamed: 0 property_type  \\\n",
       "0           1     apartment   \n",
       "1           2         house   \n",
       "2           3         house   \n",
       "3           4         house   \n",
       "4           5     apartment   \n",
       "\n",
       "                             place_with_parent_names                 lat-lon  \\\n",
       "0  |México|Distrito Federal|Gustavo A. Madero|Acu...     19.52589,-99.151703   \n",
       "1           |México|Estado de México|Toluca|Metepec|  19.2640539,-99.5727534   \n",
       "2  |México|Estado de México|Toluca|Toluca de Lerd...    19.268629,-99.671722   \n",
       "3        |México|Morelos|Temixco|Burgos Bugambilias|                     NaN   \n",
       "4  |México|Veracruz de Ignacio de la Llave|Veracruz|    19.511938,-96.871956   \n",
       "\n",
       "   area_m2  price_usd  \n",
       "0       71   48550.59  \n",
       "1      233  168636.73  \n",
       "2      300   86932.69  \n",
       "3      275  263432.41  \n",
       "4       84   68508.67  "
      ]
     },
     "execution_count": 13,
     "metadata": {},
     "output_type": "execute_result"
    }
   ],
   "source": [
    "df3.head()"
   ]
  },
  {
   "cell_type": "markdown",
   "metadata": {},
   "source": [
    "Here, we can notice:\n",
    "- There are many null values (NAN) in `lan` and `lon` columns\n",
    "- The column `Unamed:0` should be dropped\n",
    "- Split `lat-lon` column into two separted column `lat` and `lon`\n",
    "\n",
    "- Create a `State` column from `\"place_with_parent_names\"`\n",
    "- Finally, drop the `\"place_with_parent_names\"` and `\"lat-lon\"` columns from the DataFrame"
   ]
  },
  {
   "cell_type": "code",
   "execution_count": 14,
   "metadata": {},
   "outputs": [
    {
     "data": {
      "text/html": [
       "<div>\n",
       "<style scoped>\n",
       "    .dataframe tbody tr th:only-of-type {\n",
       "        vertical-align: middle;\n",
       "    }\n",
       "\n",
       "    .dataframe tbody tr th {\n",
       "        vertical-align: top;\n",
       "    }\n",
       "\n",
       "    .dataframe thead th {\n",
       "        text-align: right;\n",
       "    }\n",
       "</style>\n",
       "<table border=\"1\" class=\"dataframe\">\n",
       "  <thead>\n",
       "    <tr style=\"text-align: right;\">\n",
       "      <th></th>\n",
       "      <th>property_type</th>\n",
       "      <th>place_with_parent_names</th>\n",
       "      <th>lat-lon</th>\n",
       "      <th>area_m2</th>\n",
       "      <th>price_usd</th>\n",
       "      <th>lat</th>\n",
       "      <th>lon</th>\n",
       "    </tr>\n",
       "  </thead>\n",
       "  <tbody>\n",
       "    <tr>\n",
       "      <th>0</th>\n",
       "      <td>apartment</td>\n",
       "      <td>|México|Distrito Federal|Gustavo A. Madero|Acu...</td>\n",
       "      <td>19.52589,-99.151703</td>\n",
       "      <td>71</td>\n",
       "      <td>48550.59</td>\n",
       "      <td>19.52589</td>\n",
       "      <td>-99.151703</td>\n",
       "    </tr>\n",
       "    <tr>\n",
       "      <th>1</th>\n",
       "      <td>house</td>\n",
       "      <td>|México|Estado de México|Toluca|Metepec|</td>\n",
       "      <td>19.2640539,-99.5727534</td>\n",
       "      <td>233</td>\n",
       "      <td>168636.73</td>\n",
       "      <td>19.2640539</td>\n",
       "      <td>-99.5727534</td>\n",
       "    </tr>\n",
       "    <tr>\n",
       "      <th>2</th>\n",
       "      <td>house</td>\n",
       "      <td>|México|Estado de México|Toluca|Toluca de Lerd...</td>\n",
       "      <td>19.268629,-99.671722</td>\n",
       "      <td>300</td>\n",
       "      <td>86932.69</td>\n",
       "      <td>19.268629</td>\n",
       "      <td>-99.671722</td>\n",
       "    </tr>\n",
       "    <tr>\n",
       "      <th>4</th>\n",
       "      <td>apartment</td>\n",
       "      <td>|México|Veracruz de Ignacio de la Llave|Veracruz|</td>\n",
       "      <td>19.511938,-96.871956</td>\n",
       "      <td>84</td>\n",
       "      <td>68508.67</td>\n",
       "      <td>19.511938</td>\n",
       "      <td>-96.871956</td>\n",
       "    </tr>\n",
       "    <tr>\n",
       "      <th>5</th>\n",
       "      <td>house</td>\n",
       "      <td>|México|Jalisco|Guadalajara|</td>\n",
       "      <td>20.689157,-103.366728</td>\n",
       "      <td>175</td>\n",
       "      <td>102763.00</td>\n",
       "      <td>20.689157</td>\n",
       "      <td>-103.366728</td>\n",
       "    </tr>\n",
       "  </tbody>\n",
       "</table>\n",
       "</div>"
      ],
      "text/plain": [
       "  property_type                            place_with_parent_names  \\\n",
       "0     apartment  |México|Distrito Federal|Gustavo A. Madero|Acu...   \n",
       "1         house           |México|Estado de México|Toluca|Metepec|   \n",
       "2         house  |México|Estado de México|Toluca|Toluca de Lerd...   \n",
       "4     apartment  |México|Veracruz de Ignacio de la Llave|Veracruz|   \n",
       "5         house                       |México|Jalisco|Guadalajara|   \n",
       "\n",
       "                  lat-lon  area_m2  price_usd         lat          lon  \n",
       "0     19.52589,-99.151703       71   48550.59    19.52589   -99.151703  \n",
       "1  19.2640539,-99.5727534      233  168636.73  19.2640539  -99.5727534  \n",
       "2    19.268629,-99.671722      300   86932.69   19.268629   -99.671722  \n",
       "4    19.511938,-96.871956       84   68508.67   19.511938   -96.871956  \n",
       "5   20.689157,-103.366728      175  102763.00   20.689157  -103.366728  "
      ]
     },
     "execution_count": 14,
     "metadata": {},
     "output_type": "execute_result"
    }
   ],
   "source": [
    "df3.dropna(inplace=True)\n",
    "df3.drop(columns=[\"Unnamed: 0\"],inplace=True)\n",
    "\n",
    "# split lat-lon cln into two separted cln lat and lon\n",
    "df3[[\"lat\",\"lon\"]]=df3[\"lat-lon\"].str.split(\",\", expand=True)\n",
    "\n",
    "df3.head()"
   ]
  },
  {
   "cell_type": "code",
   "execution_count": 15,
   "metadata": {
    "scrolled": true
   },
   "outputs": [
    {
     "data": {
      "text/html": [
       "<div>\n",
       "<style scoped>\n",
       "    .dataframe tbody tr th:only-of-type {\n",
       "        vertical-align: middle;\n",
       "    }\n",
       "\n",
       "    .dataframe tbody tr th {\n",
       "        vertical-align: top;\n",
       "    }\n",
       "\n",
       "    .dataframe thead th {\n",
       "        text-align: right;\n",
       "    }\n",
       "</style>\n",
       "<table border=\"1\" class=\"dataframe\">\n",
       "  <thead>\n",
       "    <tr style=\"text-align: right;\">\n",
       "      <th></th>\n",
       "      <th>property_type</th>\n",
       "      <th>area_m2</th>\n",
       "      <th>price_usd</th>\n",
       "      <th>lat</th>\n",
       "      <th>lon</th>\n",
       "      <th>state</th>\n",
       "    </tr>\n",
       "  </thead>\n",
       "  <tbody>\n",
       "    <tr>\n",
       "      <th>0</th>\n",
       "      <td>apartment</td>\n",
       "      <td>71</td>\n",
       "      <td>48550.59</td>\n",
       "      <td>19.52589</td>\n",
       "      <td>-99.151703</td>\n",
       "      <td>Distrito Federal</td>\n",
       "    </tr>\n",
       "    <tr>\n",
       "      <th>1</th>\n",
       "      <td>house</td>\n",
       "      <td>233</td>\n",
       "      <td>168636.73</td>\n",
       "      <td>19.2640539</td>\n",
       "      <td>-99.5727534</td>\n",
       "      <td>Estado de México</td>\n",
       "    </tr>\n",
       "    <tr>\n",
       "      <th>2</th>\n",
       "      <td>house</td>\n",
       "      <td>300</td>\n",
       "      <td>86932.69</td>\n",
       "      <td>19.268629</td>\n",
       "      <td>-99.671722</td>\n",
       "      <td>Estado de México</td>\n",
       "    </tr>\n",
       "    <tr>\n",
       "      <th>4</th>\n",
       "      <td>apartment</td>\n",
       "      <td>84</td>\n",
       "      <td>68508.67</td>\n",
       "      <td>19.511938</td>\n",
       "      <td>-96.871956</td>\n",
       "      <td>Veracruz de Ignacio de la Llave</td>\n",
       "    </tr>\n",
       "    <tr>\n",
       "      <th>5</th>\n",
       "      <td>house</td>\n",
       "      <td>175</td>\n",
       "      <td>102763.00</td>\n",
       "      <td>20.689157</td>\n",
       "      <td>-103.366728</td>\n",
       "      <td>Jalisco</td>\n",
       "    </tr>\n",
       "  </tbody>\n",
       "</table>\n",
       "</div>"
      ],
      "text/plain": [
       "  property_type  area_m2  price_usd         lat          lon  \\\n",
       "0     apartment       71   48550.59    19.52589   -99.151703   \n",
       "1         house      233  168636.73  19.2640539  -99.5727534   \n",
       "2         house      300   86932.69   19.268629   -99.671722   \n",
       "4     apartment       84   68508.67   19.511938   -96.871956   \n",
       "5         house      175  102763.00   20.689157  -103.366728   \n",
       "\n",
       "                             state  \n",
       "0                 Distrito Federal  \n",
       "1                 Estado de México  \n",
       "2                 Estado de México  \n",
       "4  Veracruz de Ignacio de la Llave  \n",
       "5                          Jalisco  "
      ]
     },
     "execution_count": 15,
     "metadata": {},
     "output_type": "execute_result"
    }
   ],
   "source": [
    "df3[\"state\"]= df3[\"place_with_parent_names\"].str.split(\"|\", expand=True)[2]\n",
    "bdf3.drop(columns=[\"place_with_parent_names\",\"lat-lon\"],inplace=True)\n",
    "\n",
    "df3.head()"
   ]
  },
  {
   "cell_type": "code",
   "execution_count": 16,
   "metadata": {
    "scrolled": true
   },
   "outputs": [
    {
     "name": "stdout",
     "output_type": "stream",
     "text": [
      "<class 'pandas.core.frame.DataFrame'>\n",
      "Index: 582 entries, 0 to 699\n",
      "Data columns (total 6 columns):\n",
      " #   Column         Non-Null Count  Dtype  \n",
      "---  ------         --------------  -----  \n",
      " 0   property_type  582 non-null    object \n",
      " 1   area_m2        582 non-null    int64  \n",
      " 2   price_usd      582 non-null    float64\n",
      " 3   lat            582 non-null    object \n",
      " 4   lon            582 non-null    object \n",
      " 5   state          582 non-null    object \n",
      "dtypes: float64(1), int64(1), object(4)\n",
      "memory usage: 31.8+ KB\n"
     ]
    }
   ],
   "source": [
    "df3.info()"
   ]
  },
  {
   "cell_type": "code",
   "execution_count": 20,
   "metadata": {},
   "outputs": [],
   "source": [
    "df3[\"lat\"]=df3[\"lon\"].astype(float)\n",
    "df3[\"lon\"]=df3[\"lon\"].astype(float)"
   ]
  },
  {
   "cell_type": "code",
   "execution_count": 21,
   "metadata": {},
   "outputs": [
    {
     "name": "stdout",
     "output_type": "stream",
     "text": [
      "<class 'pandas.core.frame.DataFrame'>\n",
      "Index: 582 entries, 0 to 699\n",
      "Data columns (total 6 columns):\n",
      " #   Column         Non-Null Count  Dtype  \n",
      "---  ------         --------------  -----  \n",
      " 0   property_type  582 non-null    object \n",
      " 1   area_m2        582 non-null    int64  \n",
      " 2   price_usd      582 non-null    float64\n",
      " 3   lat            582 non-null    float64\n",
      " 4   lon            582 non-null    float64\n",
      " 5   state          582 non-null    object \n",
      "dtypes: float64(3), int64(1), object(2)\n",
      "memory usage: 31.8+ KB\n"
     ]
    }
   ],
   "source": [
    "df3.info()"
   ]
  },
  {
   "cell_type": "markdown",
   "metadata": {},
   "source": [
    "**Concatenate DataFrame**\n",
    "\n",
    "- You have three clean DataFrames, and \n",
    "- now it's time to combine them into a single DataFrame so that you can conduct your analysis. "
   ]
  },
  {
   "cell_type": "code",
   "execution_count": 22,
   "metadata": {
    "scrolled": true
   },
   "outputs": [
    {
     "name": "stdout",
     "output_type": "stream",
     "text": [
      "(1736, 6)\n"
     ]
    },
    {
     "data": {
      "text/html": [
       "<div>\n",
       "<style scoped>\n",
       "    .dataframe tbody tr th:only-of-type {\n",
       "        vertical-align: middle;\n",
       "    }\n",
       "\n",
       "    .dataframe tbody tr th {\n",
       "        vertical-align: top;\n",
       "    }\n",
       "\n",
       "    .dataframe thead th {\n",
       "        text-align: right;\n",
       "    }\n",
       "</style>\n",
       "<table border=\"1\" class=\"dataframe\">\n",
       "  <thead>\n",
       "    <tr style=\"text-align: right;\">\n",
       "      <th></th>\n",
       "      <th>property_type</th>\n",
       "      <th>state</th>\n",
       "      <th>lat</th>\n",
       "      <th>lon</th>\n",
       "      <th>area_m2</th>\n",
       "      <th>price_usd</th>\n",
       "    </tr>\n",
       "  </thead>\n",
       "  <tbody>\n",
       "    <tr>\n",
       "      <th>0</th>\n",
       "      <td>house</td>\n",
       "      <td>Estado de México</td>\n",
       "      <td>19.560181</td>\n",
       "      <td>-99.233528</td>\n",
       "      <td>150</td>\n",
       "      <td>67965.56</td>\n",
       "    </tr>\n",
       "    <tr>\n",
       "      <th>1</th>\n",
       "      <td>house</td>\n",
       "      <td>Nuevo León</td>\n",
       "      <td>25.688436</td>\n",
       "      <td>-100.198807</td>\n",
       "      <td>186</td>\n",
       "      <td>63223.78</td>\n",
       "    </tr>\n",
       "    <tr>\n",
       "      <th>2</th>\n",
       "      <td>apartment</td>\n",
       "      <td>Guerrero</td>\n",
       "      <td>16.767704</td>\n",
       "      <td>-99.764383</td>\n",
       "      <td>82</td>\n",
       "      <td>84298.37</td>\n",
       "    </tr>\n",
       "    <tr>\n",
       "      <th>3</th>\n",
       "      <td>apartment</td>\n",
       "      <td>Guerrero</td>\n",
       "      <td>16.829782</td>\n",
       "      <td>-99.911012</td>\n",
       "      <td>150</td>\n",
       "      <td>94308.80</td>\n",
       "    </tr>\n",
       "    <tr>\n",
       "      <th>5</th>\n",
       "      <td>house</td>\n",
       "      <td>Yucatán</td>\n",
       "      <td>21.052583</td>\n",
       "      <td>-89.538639</td>\n",
       "      <td>205</td>\n",
       "      <td>105191.37</td>\n",
       "    </tr>\n",
       "  </tbody>\n",
       "</table>\n",
       "</div>"
      ],
      "text/plain": [
       "  property_type             state        lat         lon  area_m2  price_usd\n",
       "0         house  Estado de México  19.560181  -99.233528      150   67965.56\n",
       "1         house        Nuevo León  25.688436 -100.198807      186   63223.78\n",
       "2     apartment          Guerrero  16.767704  -99.764383       82   84298.37\n",
       "3     apartment          Guerrero  16.829782  -99.911012      150   94308.80\n",
       "5         house           Yucatán  21.052583  -89.538639      205  105191.37"
      ]
     },
     "execution_count": 22,
     "metadata": {},
     "output_type": "execute_result"
    }
   ],
   "source": [
    "df = pd.concat([df1,df2,df3])\n",
    "print(df.shape)\n",
    "df.head()"
   ]
  },
  {
   "cell_type": "code",
   "execution_count": 23,
   "metadata": {
    "scrolled": true
   },
   "outputs": [
    {
     "data": {
      "text/html": [
       "<div>\n",
       "<style scoped>\n",
       "    .dataframe tbody tr th:only-of-type {\n",
       "        vertical-align: middle;\n",
       "    }\n",
       "\n",
       "    .dataframe tbody tr th {\n",
       "        vertical-align: top;\n",
       "    }\n",
       "\n",
       "    .dataframe thead th {\n",
       "        text-align: right;\n",
       "    }\n",
       "</style>\n",
       "<table border=\"1\" class=\"dataframe\">\n",
       "  <thead>\n",
       "    <tr style=\"text-align: right;\">\n",
       "      <th></th>\n",
       "      <th>index</th>\n",
       "      <th>property_type</th>\n",
       "      <th>state</th>\n",
       "      <th>lat</th>\n",
       "      <th>lon</th>\n",
       "      <th>area_m2</th>\n",
       "      <th>price_usd</th>\n",
       "    </tr>\n",
       "  </thead>\n",
       "  <tbody>\n",
       "    <tr>\n",
       "      <th>0</th>\n",
       "      <td>0</td>\n",
       "      <td>house</td>\n",
       "      <td>Estado de México</td>\n",
       "      <td>19.560181</td>\n",
       "      <td>-99.233528</td>\n",
       "      <td>150</td>\n",
       "      <td>67965.56</td>\n",
       "    </tr>\n",
       "    <tr>\n",
       "      <th>1</th>\n",
       "      <td>1</td>\n",
       "      <td>house</td>\n",
       "      <td>Nuevo León</td>\n",
       "      <td>25.688436</td>\n",
       "      <td>-100.198807</td>\n",
       "      <td>186</td>\n",
       "      <td>63223.78</td>\n",
       "    </tr>\n",
       "    <tr>\n",
       "      <th>2</th>\n",
       "      <td>2</td>\n",
       "      <td>apartment</td>\n",
       "      <td>Guerrero</td>\n",
       "      <td>16.767704</td>\n",
       "      <td>-99.764383</td>\n",
       "      <td>82</td>\n",
       "      <td>84298.37</td>\n",
       "    </tr>\n",
       "    <tr>\n",
       "      <th>3</th>\n",
       "      <td>3</td>\n",
       "      <td>apartment</td>\n",
       "      <td>Guerrero</td>\n",
       "      <td>16.829782</td>\n",
       "      <td>-99.911012</td>\n",
       "      <td>150</td>\n",
       "      <td>94308.80</td>\n",
       "    </tr>\n",
       "    <tr>\n",
       "      <th>4</th>\n",
       "      <td>5</td>\n",
       "      <td>house</td>\n",
       "      <td>Yucatán</td>\n",
       "      <td>21.052583</td>\n",
       "      <td>-89.538639</td>\n",
       "      <td>205</td>\n",
       "      <td>105191.37</td>\n",
       "    </tr>\n",
       "    <tr>\n",
       "      <th>...</th>\n",
       "      <td>...</td>\n",
       "      <td>...</td>\n",
       "      <td>...</td>\n",
       "      <td>...</td>\n",
       "      <td>...</td>\n",
       "      <td>...</td>\n",
       "      <td>...</td>\n",
       "    </tr>\n",
       "    <tr>\n",
       "      <th>1731</th>\n",
       "      <td>695</td>\n",
       "      <td>house</td>\n",
       "      <td>Jalisco</td>\n",
       "      <td>-103.484418</td>\n",
       "      <td>-103.484418</td>\n",
       "      <td>175</td>\n",
       "      <td>121178.91</td>\n",
       "    </tr>\n",
       "    <tr>\n",
       "      <th>1732</th>\n",
       "      <td>696</td>\n",
       "      <td>house</td>\n",
       "      <td>Morelos</td>\n",
       "      <td>-99.180215</td>\n",
       "      <td>-99.180215</td>\n",
       "      <td>100</td>\n",
       "      <td>47417.83</td>\n",
       "    </tr>\n",
       "    <tr>\n",
       "      <th>1733</th>\n",
       "      <td>697</td>\n",
       "      <td>house</td>\n",
       "      <td>Yucatán</td>\n",
       "      <td>-89.653006</td>\n",
       "      <td>-89.653006</td>\n",
       "      <td>81</td>\n",
       "      <td>39524.23</td>\n",
       "    </tr>\n",
       "    <tr>\n",
       "      <th>1734</th>\n",
       "      <td>698</td>\n",
       "      <td>house</td>\n",
       "      <td>San Luis Potosí</td>\n",
       "      <td>-101.032194</td>\n",
       "      <td>-101.032194</td>\n",
       "      <td>360</td>\n",
       "      <td>245050.24</td>\n",
       "    </tr>\n",
       "    <tr>\n",
       "      <th>1735</th>\n",
       "      <td>699</td>\n",
       "      <td>house</td>\n",
       "      <td>Estado de México</td>\n",
       "      <td>-99.558519</td>\n",
       "      <td>-99.558519</td>\n",
       "      <td>115</td>\n",
       "      <td>110667.85</td>\n",
       "    </tr>\n",
       "  </tbody>\n",
       "</table>\n",
       "<p>1736 rows × 7 columns</p>\n",
       "</div>"
      ],
      "text/plain": [
       "      index property_type             state         lat         lon  area_m2  \\\n",
       "0         0         house  Estado de México   19.560181  -99.233528      150   \n",
       "1         1         house        Nuevo León   25.688436 -100.198807      186   \n",
       "2         2     apartment          Guerrero   16.767704  -99.764383       82   \n",
       "3         3     apartment          Guerrero   16.829782  -99.911012      150   \n",
       "4         5         house           Yucatán   21.052583  -89.538639      205   \n",
       "...     ...           ...               ...         ...         ...      ...   \n",
       "1731    695         house           Jalisco -103.484418 -103.484418      175   \n",
       "1732    696         house           Morelos  -99.180215  -99.180215      100   \n",
       "1733    697         house           Yucatán  -89.653006  -89.653006       81   \n",
       "1734    698         house   San Luis Potosí -101.032194 -101.032194      360   \n",
       "1735    699         house  Estado de México  -99.558519  -99.558519      115   \n",
       "\n",
       "      price_usd  \n",
       "0      67965.56  \n",
       "1      63223.78  \n",
       "2      84298.37  \n",
       "3      94308.80  \n",
       "4     105191.37  \n",
       "...         ...  \n",
       "1731  121178.91  \n",
       "1732   47417.83  \n",
       "1733   39524.23  \n",
       "1734  245050.24  \n",
       "1735  110667.85  \n",
       "\n",
       "[1736 rows x 7 columns]"
      ]
     },
     "execution_count": 23,
     "metadata": {},
     "output_type": "execute_result"
    }
   ],
   "source": [
    "df.reset_index()"
   ]
  },
  {
   "cell_type": "code",
   "execution_count": 31,
   "metadata": {},
   "outputs": [
    {
     "data": {
      "text/html": [
       "<div>\n",
       "<style scoped>\n",
       "    .dataframe tbody tr th:only-of-type {\n",
       "        vertical-align: middle;\n",
       "    }\n",
       "\n",
       "    .dataframe tbody tr th {\n",
       "        vertical-align: top;\n",
       "    }\n",
       "\n",
       "    .dataframe thead th {\n",
       "        text-align: right;\n",
       "    }\n",
       "</style>\n",
       "<table border=\"1\" class=\"dataframe\">\n",
       "  <thead>\n",
       "    <tr style=\"text-align: right;\">\n",
       "      <th></th>\n",
       "      <th>property_type</th>\n",
       "      <th>state</th>\n",
       "      <th>lat</th>\n",
       "      <th>lon</th>\n",
       "      <th>area_m2</th>\n",
       "      <th>price_usd</th>\n",
       "    </tr>\n",
       "  </thead>\n",
       "  <tbody>\n",
       "    <tr>\n",
       "      <th>0</th>\n",
       "      <td>house</td>\n",
       "      <td>Estado de México</td>\n",
       "      <td>19.560181</td>\n",
       "      <td>-99.233528</td>\n",
       "      <td>150</td>\n",
       "      <td>67965.56</td>\n",
       "    </tr>\n",
       "    <tr>\n",
       "      <th>1</th>\n",
       "      <td>house</td>\n",
       "      <td>Nuevo León</td>\n",
       "      <td>25.688436</td>\n",
       "      <td>-100.198807</td>\n",
       "      <td>186</td>\n",
       "      <td>63223.78</td>\n",
       "    </tr>\n",
       "    <tr>\n",
       "      <th>2</th>\n",
       "      <td>apartment</td>\n",
       "      <td>Guerrero</td>\n",
       "      <td>16.767704</td>\n",
       "      <td>-99.764383</td>\n",
       "      <td>82</td>\n",
       "      <td>84298.37</td>\n",
       "    </tr>\n",
       "    <tr>\n",
       "      <th>3</th>\n",
       "      <td>apartment</td>\n",
       "      <td>Guerrero</td>\n",
       "      <td>16.829782</td>\n",
       "      <td>-99.911012</td>\n",
       "      <td>150</td>\n",
       "      <td>94308.80</td>\n",
       "    </tr>\n",
       "    <tr>\n",
       "      <th>4</th>\n",
       "      <td>house</td>\n",
       "      <td>Yucatán</td>\n",
       "      <td>21.052583</td>\n",
       "      <td>-89.538639</td>\n",
       "      <td>205</td>\n",
       "      <td>105191.37</td>\n",
       "    </tr>\n",
       "    <tr>\n",
       "      <th>...</th>\n",
       "      <td>...</td>\n",
       "      <td>...</td>\n",
       "      <td>...</td>\n",
       "      <td>...</td>\n",
       "      <td>...</td>\n",
       "      <td>...</td>\n",
       "    </tr>\n",
       "    <tr>\n",
       "      <th>1731</th>\n",
       "      <td>house</td>\n",
       "      <td>Jalisco</td>\n",
       "      <td>-103.484418</td>\n",
       "      <td>-103.484418</td>\n",
       "      <td>175</td>\n",
       "      <td>121178.91</td>\n",
       "    </tr>\n",
       "    <tr>\n",
       "      <th>1732</th>\n",
       "      <td>house</td>\n",
       "      <td>Morelos</td>\n",
       "      <td>-99.180215</td>\n",
       "      <td>-99.180215</td>\n",
       "      <td>100</td>\n",
       "      <td>47417.83</td>\n",
       "    </tr>\n",
       "    <tr>\n",
       "      <th>1733</th>\n",
       "      <td>house</td>\n",
       "      <td>Yucatán</td>\n",
       "      <td>-89.653006</td>\n",
       "      <td>-89.653006</td>\n",
       "      <td>81</td>\n",
       "      <td>39524.23</td>\n",
       "    </tr>\n",
       "    <tr>\n",
       "      <th>1734</th>\n",
       "      <td>house</td>\n",
       "      <td>San Luis Potosí</td>\n",
       "      <td>-101.032194</td>\n",
       "      <td>-101.032194</td>\n",
       "      <td>360</td>\n",
       "      <td>245050.24</td>\n",
       "    </tr>\n",
       "    <tr>\n",
       "      <th>1735</th>\n",
       "      <td>house</td>\n",
       "      <td>Estado de México</td>\n",
       "      <td>-99.558519</td>\n",
       "      <td>-99.558519</td>\n",
       "      <td>115</td>\n",
       "      <td>110667.85</td>\n",
       "    </tr>\n",
       "  </tbody>\n",
       "</table>\n",
       "<p>1736 rows × 6 columns</p>\n",
       "</div>"
      ],
      "text/plain": [
       "     property_type             state         lat         lon  area_m2  \\\n",
       "0            house  Estado de México   19.560181  -99.233528      150   \n",
       "1            house        Nuevo León   25.688436 -100.198807      186   \n",
       "2        apartment          Guerrero   16.767704  -99.764383       82   \n",
       "3        apartment          Guerrero   16.829782  -99.911012      150   \n",
       "4            house           Yucatán   21.052583  -89.538639      205   \n",
       "...            ...               ...         ...         ...      ...   \n",
       "1731         house           Jalisco -103.484418 -103.484418      175   \n",
       "1732         house           Morelos  -99.180215  -99.180215      100   \n",
       "1733         house           Yucatán  -89.653006  -89.653006       81   \n",
       "1734         house   San Luis Potosí -101.032194 -101.032194      360   \n",
       "1735         house  Estado de México  -99.558519  -99.558519      115   \n",
       "\n",
       "      price_usd  \n",
       "0      67965.56  \n",
       "1      63223.78  \n",
       "2      84298.37  \n",
       "3      94308.80  \n",
       "4     105191.37  \n",
       "...         ...  \n",
       "1731  121178.91  \n",
       "1732   47417.83  \n",
       "1733   39524.23  \n",
       "1734  245050.24  \n",
       "1735  110667.85  \n",
       "\n",
       "[1736 rows x 6 columns]"
      ]
     },
     "execution_count": 31,
     "metadata": {},
     "output_type": "execute_result"
    }
   ],
   "source": [
    "df.reset_index(drop=True)"
   ]
  },
  {
   "cell_type": "markdown",
   "metadata": {},
   "source": [
    "**Save/write df**\n",
    "\n",
    "- The data is clean and in a single DataFrame, and now you need to save it as a CSV file so that you can examine it in your exploratory data analysis."
   ]
  },
  {
   "cell_type": "code",
   "execution_count": 32,
   "metadata": {},
   "outputs": [],
   "source": [
    "df.to_csv(\"C:/Users/CASH/Desktop/AAC_SCHOOL/Data Science/Project/MX/mexicoData_clean.csv\", index=False)"
   ]
  },
  {
   "cell_type": "code",
   "execution_count": null,
   "metadata": {},
   "outputs": [],
   "source": []
  }
 ],
 "metadata": {
  "kernelspec": {
   "display_name": "Python 3 (ipykernel)",
   "language": "python",
   "name": "python3"
  },
  "language_info": {
   "codemirror_mode": {
    "name": "ipython",
    "version": 3
   },
   "file_extension": ".py",
   "mimetype": "text/x-python",
   "name": "python",
   "nbconvert_exporter": "python",
   "pygments_lexer": "ipython3",
   "version": "3.11.7"
  }
 },
 "nbformat": 4,
 "nbformat_minor": 4
}
